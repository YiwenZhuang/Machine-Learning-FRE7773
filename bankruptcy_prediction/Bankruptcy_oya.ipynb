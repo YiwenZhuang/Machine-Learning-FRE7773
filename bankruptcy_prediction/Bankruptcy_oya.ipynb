{
 "cells": [
  {
   "cell_type": "markdown",
   "metadata": {},
   "source": [
    "# Problem description\n",
    "\n",
    "You are to predict whether a company will go bankrupt in the following year, based on financial attributes of the company.\n",
    "\n",
    "Perhaps you are contemplating lending money to a company, and need to know whether the company\n",
    "is in near-term danger of not being able to repay.\n"
   ]
  },
  {
   "cell_type": "markdown",
   "metadata": {},
   "source": [
    "## Goal"
   ]
  },
  {
   "cell_type": "markdown",
   "metadata": {
    "slideshow": {
     "slide_type": "fragment"
    }
   },
   "source": [
    "## Learning objectives\n",
    "\n",
    "- Demonstrate mastery on solving a classification problem and presenting\n",
    "the entire Recipe for Machine Learning process in a notebook.\n",
    "- We will make suggestions for ways to approach the problem\n",
    "    - But there will be little explicit direction for this task.\n",
    "- It is meant to be analogous to a pre-interview task that a potential employer might assign\n",
    "to verify your skill"
   ]
  },
  {
   "cell_type": "markdown",
   "metadata": {},
   "source": [
    "# Import modules"
   ]
  },
  {
   "cell_type": "code",
   "execution_count": 1,
   "metadata": {},
   "outputs": [],
   "source": [
    "## Standard imports\n",
    "import numpy as np\n",
    "import pandas as pd\n",
    "import matplotlib.pyplot as plt\n",
    "import seaborn as sns\n",
    "\n",
    "import sklearn\n",
    "\n",
    "import os\n",
    "import math\n",
    "\n",
    "%matplotlib inline\n",
    "\n",
    "from sklearn.metrics import precision_recall_curve\n",
    "from sklearn.metrics import average_precision_score\n",
    "from sklearn.metrics import plot_precision_recall_curve\n",
    "import matplotlib.pyplot as plt\n",
    "\n",
    "from sklearn.impute import SimpleImputer\n",
    "from sklearn.pipeline import Pipeline\n",
    "from sklearn.preprocessing import StandardScaler\n",
    "from sklearn.inspection import permutation_importance\n",
    "\n",
    "from sklearn.linear_model import LogisticRegression\n",
    "from sklearn.model_selection import train_test_split, cross_val_score\n",
    "from sklearn.metrics import recall_score,precision_score\n",
    "from sklearn.metrics import accuracy_score\n",
    "from sklearn.utils import class_weight\n",
    "from sklearn.ensemble import RandomForestClassifier\n",
    "\n",
    "from sklearn.metrics import roc_curve, auc\n",
    "from sklearn.metrics import roc_auc_score\n",
    "from sklearn.model_selection import GridSearchCV,RandomizedSearchCV\n",
    "from sklearn.naive_bayes import GaussianNB\n",
    "from sklearn.pipeline import make_pipeline\n",
    "\n",
    "from sklearn import svm\n",
    "\n",
    "from sklearn.preprocessing import PolynomialFeatures\n",
    "from sklearn.feature_selection import SelectPercentile\n",
    "from sklearn.preprocessing import MinMaxScaler\n",
    "from sklearn.svm import SVC\n",
    "from sklearn.ensemble import GradientBoostingClassifier\n",
    "\n",
    "from imblearn.over_sampling import SMOTE\n",
    "# Here I use SMOTE for oversampling, may need to install package by \"pip install -U imbalanced-learn\""
   ]
  },
  {
   "cell_type": "markdown",
   "metadata": {},
   "source": [
    "# API for students"
   ]
  },
  {
   "cell_type": "code",
   "execution_count": 2,
   "metadata": {},
   "outputs": [],
   "source": [
    "## Load the bankruptcy_helper module\n",
    "\n",
    "from IPython.core.interactiveshell import InteractiveShell\n",
    "InteractiveShell.ast_node_interactivity = \"all\"\n",
    "\n",
    "# Reload all modules imported with %aimport\n",
    "%load_ext autoreload\n",
    "%autoreload 1\n",
    "\n",
    "# Import bankruptcy_helper module\n",
    "import bankruptcy_helper\n",
    "%aimport bankruptcy_helper\n",
    "\n",
    "helper = bankruptcy_helper.Helper()"
   ]
  },
  {
   "cell_type": "markdown",
   "metadata": {},
   "source": [
    "# Get the data\n",
    "\n",
    "The first step in our Recipe is Get the Data.\n",
    "\n",
    "- Each example is a row of data corresponding to a single company\n",
    "- There are 64 attributes, described in the section below\n",
    "- The column `Bankrupt` is 1 if the company subsequently went bankrupt; 0 if it did not go bankrupt\n",
    "- The column `Id` is a Company Identifier"
   ]
  },
  {
   "cell_type": "code",
   "execution_count": 3,
   "metadata": {},
   "outputs": [
    {
     "name": "stdout",
     "output_type": "stream",
     "text": [
      "Date shape:  (4818, 66)\n"
     ]
    }
   ],
   "source": [
    "# Data directory\n",
    "DATA_DIR = \"./Data\"\n",
    "\n",
    "if not os.path.isdir(DATA_DIR):\n",
    "    DATA_DIR = \"../resource/asnlib/publicdata/bankruptcy/data\"\n",
    "\n",
    "data_file = \"5th_yr.csv\"\n",
    "data = pd.read_csv( os.path.join(DATA_DIR, \"train\", data_file) )\n",
    "\n",
    "target_attr = \"Bankrupt\"\n",
    "\n",
    "n_samples, n_attrs = data.shape\n",
    "print(\"Date shape: \", data.shape)"
   ]
  },
  {
   "cell_type": "markdown",
   "metadata": {},
   "source": [
    "## Have a look at the data\n",
    "\n",
    "We will not go through all steps in the Recipe, nor in depth.\n",
    "\n",
    "But here's a peek"
   ]
  },
  {
   "cell_type": "code",
   "execution_count": 4,
   "metadata": {
    "scrolled": true
   },
   "outputs": [
    {
     "data": {
      "text/html": [
       "<div>\n",
       "<style scoped>\n",
       "    .dataframe tbody tr th:only-of-type {\n",
       "        vertical-align: middle;\n",
       "    }\n",
       "\n",
       "    .dataframe tbody tr th {\n",
       "        vertical-align: top;\n",
       "    }\n",
       "\n",
       "    .dataframe thead th {\n",
       "        text-align: right;\n",
       "    }\n",
       "</style>\n",
       "<table border=\"1\" class=\"dataframe\">\n",
       "  <thead>\n",
       "    <tr style=\"text-align: right;\">\n",
       "      <th></th>\n",
       "      <th>X1</th>\n",
       "      <th>X2</th>\n",
       "      <th>X3</th>\n",
       "      <th>X4</th>\n",
       "      <th>X5</th>\n",
       "      <th>X6</th>\n",
       "      <th>X7</th>\n",
       "      <th>X8</th>\n",
       "      <th>X9</th>\n",
       "      <th>X10</th>\n",
       "      <th>...</th>\n",
       "      <th>X57</th>\n",
       "      <th>X58</th>\n",
       "      <th>X59</th>\n",
       "      <th>X60</th>\n",
       "      <th>X61</th>\n",
       "      <th>X62</th>\n",
       "      <th>X63</th>\n",
       "      <th>X64</th>\n",
       "      <th>Bankrupt</th>\n",
       "      <th>Id</th>\n",
       "    </tr>\n",
       "  </thead>\n",
       "  <tbody>\n",
       "    <tr>\n",
       "      <th>0</th>\n",
       "      <td>0.025417</td>\n",
       "      <td>0.41769</td>\n",
       "      <td>0.0568</td>\n",
       "      <td>1.1605</td>\n",
       "      <td>-126.39</td>\n",
       "      <td>0.41355</td>\n",
       "      <td>0.025417</td>\n",
       "      <td>1.2395</td>\n",
       "      <td>1.16500</td>\n",
       "      <td>0.51773</td>\n",
       "      <td>...</td>\n",
       "      <td>0.049094</td>\n",
       "      <td>0.85835</td>\n",
       "      <td>0.12322</td>\n",
       "      <td>5.6167</td>\n",
       "      <td>7.4042</td>\n",
       "      <td>164.310</td>\n",
       "      <td>2.2214</td>\n",
       "      <td>1.334</td>\n",
       "      <td>0</td>\n",
       "      <td>4510</td>\n",
       "    </tr>\n",
       "    <tr>\n",
       "      <th>1</th>\n",
       "      <td>-0.023834</td>\n",
       "      <td>0.2101</td>\n",
       "      <td>0.50839</td>\n",
       "      <td>4.2374</td>\n",
       "      <td>22.034</td>\n",
       "      <td>0.058412</td>\n",
       "      <td>-0.027621</td>\n",
       "      <td>3.6579</td>\n",
       "      <td>0.98183</td>\n",
       "      <td>0.76855</td>\n",
       "      <td>...</td>\n",
       "      <td>-0.031011</td>\n",
       "      <td>1.01850</td>\n",
       "      <td>0.069047</td>\n",
       "      <td>5.7996</td>\n",
       "      <td>7.7529</td>\n",
       "      <td>26.446</td>\n",
       "      <td>13.802</td>\n",
       "      <td>6.4782</td>\n",
       "      <td>0</td>\n",
       "      <td>3537</td>\n",
       "    </tr>\n",
       "    <tr>\n",
       "      <th>2</th>\n",
       "      <td>0.030515</td>\n",
       "      <td>0.44606</td>\n",
       "      <td>0.19569</td>\n",
       "      <td>1.565</td>\n",
       "      <td>35.766</td>\n",
       "      <td>0.28196</td>\n",
       "      <td>0.039264</td>\n",
       "      <td>0.88456</td>\n",
       "      <td>1.05260</td>\n",
       "      <td>0.39457</td>\n",
       "      <td>...</td>\n",
       "      <td>0.077337</td>\n",
       "      <td>0.95006</td>\n",
       "      <td>0.25266</td>\n",
       "      <td>15.049</td>\n",
       "      <td>2.8179</td>\n",
       "      <td>104.730</td>\n",
       "      <td>3.4852</td>\n",
       "      <td>2.6361</td>\n",
       "      <td>0</td>\n",
       "      <td>3920</td>\n",
       "    </tr>\n",
       "    <tr>\n",
       "      <th>3</th>\n",
       "      <td>0.052318</td>\n",
       "      <td>0.056366</td>\n",
       "      <td>0.54562</td>\n",
       "      <td>10.68</td>\n",
       "      <td>438.2</td>\n",
       "      <td>0.13649</td>\n",
       "      <td>0.058164</td>\n",
       "      <td>10.853</td>\n",
       "      <td>1.02790</td>\n",
       "      <td>0.61173</td>\n",
       "      <td>...</td>\n",
       "      <td>0.085524</td>\n",
       "      <td>0.97282</td>\n",
       "      <td>0</td>\n",
       "      <td>6.0157</td>\n",
       "      <td>7.4626</td>\n",
       "      <td>48.756</td>\n",
       "      <td>7.4863</td>\n",
       "      <td>1.0602</td>\n",
       "      <td>0</td>\n",
       "      <td>1806</td>\n",
       "    </tr>\n",
       "    <tr>\n",
       "      <th>4</th>\n",
       "      <td>0.000992</td>\n",
       "      <td>0.49712</td>\n",
       "      <td>0.12316</td>\n",
       "      <td>1.3036</td>\n",
       "      <td>-71.398</td>\n",
       "      <td>0</td>\n",
       "      <td>0.001007</td>\n",
       "      <td>1.0116</td>\n",
       "      <td>1.29210</td>\n",
       "      <td>0.50288</td>\n",
       "      <td>...</td>\n",
       "      <td>0.001974</td>\n",
       "      <td>0.99925</td>\n",
       "      <td>0.019736</td>\n",
       "      <td>3.4819</td>\n",
       "      <td>8.582</td>\n",
       "      <td>114.580</td>\n",
       "      <td>3.1854</td>\n",
       "      <td>2.742</td>\n",
       "      <td>0</td>\n",
       "      <td>1529</td>\n",
       "    </tr>\n",
       "  </tbody>\n",
       "</table>\n",
       "<p>5 rows × 66 columns</p>\n",
       "</div>"
      ],
      "text/plain": [
       "          X1        X2       X3      X4       X5        X6         X7  \\\n",
       "0   0.025417   0.41769   0.0568  1.1605  -126.39   0.41355   0.025417   \n",
       "1  -0.023834    0.2101  0.50839  4.2374   22.034  0.058412  -0.027621   \n",
       "2   0.030515   0.44606  0.19569   1.565   35.766   0.28196   0.039264   \n",
       "3   0.052318  0.056366  0.54562   10.68    438.2   0.13649   0.058164   \n",
       "4   0.000992   0.49712  0.12316  1.3036  -71.398         0   0.001007   \n",
       "\n",
       "        X8       X9      X10  ...        X57      X58       X59     X60  \\\n",
       "0   1.2395  1.16500  0.51773  ...   0.049094  0.85835   0.12322  5.6167   \n",
       "1   3.6579  0.98183  0.76855  ...  -0.031011  1.01850  0.069047  5.7996   \n",
       "2  0.88456  1.05260  0.39457  ...   0.077337  0.95006   0.25266  15.049   \n",
       "3   10.853  1.02790  0.61173  ...   0.085524  0.97282         0  6.0157   \n",
       "4   1.0116  1.29210  0.50288  ...   0.001974  0.99925  0.019736  3.4819   \n",
       "\n",
       "      X61      X62     X63     X64  Bankrupt    Id  \n",
       "0  7.4042  164.310  2.2214   1.334         0  4510  \n",
       "1  7.7529   26.446  13.802  6.4782         0  3537  \n",
       "2  2.8179  104.730  3.4852  2.6361         0  3920  \n",
       "3  7.4626   48.756  7.4863  1.0602         0  1806  \n",
       "4   8.582  114.580  3.1854   2.742         0  1529  \n",
       "\n",
       "[5 rows x 66 columns]"
      ]
     },
     "execution_count": 4,
     "metadata": {},
     "output_type": "execute_result"
    }
   ],
   "source": [
    "data.head()"
   ]
  },
  {
   "cell_type": "markdown",
   "metadata": {},
   "source": [
    "# Exploratory Data Analysis"
   ]
  },
  {
   "cell_type": "markdown",
   "metadata": {},
   "source": [
    "## TARGET variable --> How many company will bankrupt in the following year\n",
    "### from the graph, we can also know for target variable(bankrupt), the value is either 0 or 1.\n",
    "### this is an imbalanced set, only 6% will bankrupt next year, let's call them defaulter.\n",
    "#### solution 1: change performance metric -> recall score\n",
    "#### solution 2: generate synthetic samples to oversample minority class or undersample majority class\n",
    "### We can see from the above histogram that our data is imbalanced for 0 and 1. To avoid this problem, we proposed solutions. Since it is worse to misclassify a company that does go bankrupt, and 1 - recall score (TP/FN) measures it, so we want recall score as large as possible. Therefore, we use recall score as scoring method.\n",
    "### Therefore, we try gradient boosting model, use recall score to compare models, and oversample minority class."
   ]
  },
  {
   "cell_type": "code",
   "execution_count": 5,
   "metadata": {
    "scrolled": true
   },
   "outputs": [
    {
     "data": {
      "text/plain": [
       "<Figure size 1152x576 with 0 Axes>"
      ]
     },
     "execution_count": 5,
     "metadata": {},
     "output_type": "execute_result"
    },
    {
     "data": {
      "text/plain": [
       "<matplotlib.axes._subplots.AxesSubplot at 0x7ff0569d9f10>"
      ]
     },
     "execution_count": 5,
     "metadata": {},
     "output_type": "execute_result"
    },
    {
     "data": {
      "text/plain": [
       "<matplotlib.axes._subplots.AxesSubplot at 0x7ff0569d9f10>"
      ]
     },
     "execution_count": 5,
     "metadata": {},
     "output_type": "execute_result"
    },
    {
     "data": {
      "text/plain": [
       "Text(0.5, 1.0, 'Distribution of target variable')"
      ]
     },
     "execution_count": 5,
     "metadata": {},
     "output_type": "execute_result"
    },
    {
     "data": {
      "text/plain": [
       "<matplotlib.axes._subplots.AxesSubplot at 0x7ff0500f32b0>"
      ]
     },
     "execution_count": 5,
     "metadata": {},
     "output_type": "execute_result"
    },
    {
     "data": {
      "text/plain": [
       "<matplotlib.axes._subplots.AxesSubplot at 0x7ff0500f32b0>"
      ]
     },
     "execution_count": 5,
     "metadata": {},
     "output_type": "execute_result"
    },
    {
     "data": {
      "text/plain": [
       "Text(0.5, 1.0, 'Count of target variable')"
      ]
     },
     "execution_count": 5,
     "metadata": {},
     "output_type": "execute_result"
    },
    {
     "data": {
      "text/plain": [
       "Text(0.5, 0, 'labels')"
      ]
     },
     "execution_count": 5,
     "metadata": {},
     "output_type": "execute_result"
    },
    {
     "data": {
      "text/plain": [
       "Text(0, 0.5, 'values')"
      ]
     },
     "execution_count": 5,
     "metadata": {},
     "output_type": "execute_result"
    },
    {
     "data": {
      "image/png": "[encoded data removed]",
      "text/plain": [
       "<Figure size 1152x576 with 2 Axes>"
      ]
     },
     "metadata": {
      "needs_background": "light"
     },
     "output_type": "display_data"
    }
   ],
   "source": [
    "plt.figure(figsize=(16,8))\n",
    "plt.subplot(121)\n",
    "data[\"Bankrupt\"].value_counts().plot.pie(autopct = \"%1.0f%%\",startangle = 60,labels=[\"repayer\",\"defaulter\"],\n",
    "                                                                        wedgeprops={\"linewidth\":2,\"edgecolor\":\"black\"})\n",
    "plt.title(\"Distribution of target variable\")\n",
    "plt.subplot(122)\n",
    "data[\"Bankrupt\"].value_counts().plot(kind=\"bar\")\n",
    "plt.title(\"Count of target variable\")\n",
    "plt.xlabel('labels')\n",
    "plt.ylabel('values')"
   ]
  },
  {
   "cell_type": "markdown",
   "metadata": {},
   "source": [
    "## Drop varibale ID because it doesn't effect our target value"
   ]
  },
  {
   "cell_type": "code",
   "execution_count": 6,
   "metadata": {
    "scrolled": true
   },
   "outputs": [
    {
     "name": "stdout",
     "output_type": "stream",
     "text": [
      "Date shape:  (4818, 65)\n"
     ]
    }
   ],
   "source": [
    "data.drop('Id', axis = 1, inplace = True)\n",
    "print(\"Date shape: \", data.shape)"
   ]
  },
  {
   "cell_type": "markdown",
   "metadata": {},
   "source": [
    "Pretty *unhelpful* !\n",
    "\n",
    "What are these mysteriously named features ?\n",
    "\n",
    "## Description of attributes"
   ]
  },
  {
   "cell_type": "raw",
   "metadata": {},
   "source": [
    "Attribute Information:\n",
    "\n",
    "Id Company Identifier \n",
    "X1 net profit / total assets\n",
    "X2 total liabilities / total assets\n",
    "X3 working capital / total assets\n",
    "X4 current assets / short-term liabilities\n",
    "X5 [(cash + short-term securities + receivables - short-term liabilities) / (operating expenses - depreciation)] * 365\n",
    "X6 retained earnings / total assets\n",
    "X7 EBIT / total assets\n",
    "X8 book value of equity / total liabilities\n",
    "X9 sales / total assets\n",
    "X10 equity / total assets\n",
    "X11 (gross profit + extraordinary items + financial expenses) / total assets\n",
    "X12 gross profit / short-term liabilities\n",
    "X13 (gross profit + depreciation) / sales\n",
    "X14 (gross profit + interest) / total assets\n",
    "X15 (total liabilities * 365) / (gross profit + depreciation)\n",
    "X16 (gross profit + depreciation) / total liabilities\n",
    "X17 total assets / total liabilities\n",
    "X18 gross profit / total assets\n",
    "X19 gross profit / sales\n",
    "X20 (inventory * 365) / sales\n",
    "X21 sales (n) / sales (n-1)\n",
    "X22 profit on operating activities / total assets\n",
    "X23 net profit / sales\n",
    "X24 gross profit (in 3 years) / total assets\n",
    "X25 (equity - share capital) / total assets\n",
    "X26 (net profit + depreciation) / total liabilities\n",
    "X27 profit on operating activities / financial expenses\n",
    "X28 working capital / fixed assets\n",
    "X29 logarithm of total assets\n",
    "X30 (total liabilities - cash) / sales\n",
    "X31 (gross profit + interest) / sales\n",
    "X32 (current liabilities * 365) / cost of products sold\n",
    "X33 operating expenses / short-term liabilities\n",
    "X34 operating expenses / total liabilities\n",
    "X35 profit on sales / total assets\n",
    "X36 total sales / total assets\n",
    "X37 (current assets - inventories) / long-term liabilities\n",
    "X38 constant capital / total assets\n",
    "X39 profit on sales / sales\n",
    "X40 (current assets - inventory - receivables) / short-term liabilities\n",
    "X41 total liabilities / ((profit on operating activities + depreciation) * (12/365))\n",
    "X42 profit on operating activities / sales\n",
    "X43 rotation receivables + inventory turnover in days\n",
    "X44 (receivables * 365) / sales\n",
    "X45 net profit / inventory\n",
    "X46 (current assets - inventory) / short-term liabilities\n",
    "X47 (inventory * 365) / cost of products sold\n",
    "X48 EBITDA (profit on operating activities - depreciation) / total assets\n",
    "X49 EBITDA (profit on operating activities - depreciation) / sales\n",
    "X50 current assets / total liabilities\n",
    "X51 short-term liabilities / total assets\n",
    "X52 (short-term liabilities * 365) / cost of products sold)\n",
    "X53 equity / fixed assets\n",
    "X54 constant capital / fixed assets\n",
    "X55 working capital\n",
    "X56 (sales - cost of products sold) / sales\n",
    "X57 (current assets - inventory - short-term liabilities) / (sales - gross profit - depreciation)\n",
    "X58 total costs /total sales\n",
    "X59 long-term liabilities / equity\n",
    "X60 sales / inventory\n",
    "X61 sales / receivables\n",
    "X62 (short-term liabilities *365) / sales\n",
    "X63 sales / short-term liabilities\n",
    "X64 sales / fixed assets\n"
   ]
  },
  {
   "cell_type": "markdown",
   "metadata": {},
   "source": [
    "This may still be somewhat unhelpful for those of you not used to reading Financial Statements.\n",
    "\n",
    "But that's partially the point of the exercise\n",
    "- You can *still* perform Machine Learning *even if* you are not an expert in the problem domain\n",
    "    - That's what makes this a good interview exercise: you can demonstrate your thought process even if you don't know the exact meaning of the terms\n",
    "- Of course: becoming an expert in the domain *will improve* your ability to create better models\n",
    "    - Feature engineering is easier if you understand the features, their inter-relationships, and the relationship to the target"
   ]
  },
  {
   "cell_type": "markdown",
   "metadata": {},
   "source": [
    "Let's get a feel for the data\n",
    "- What is the type of each attribute ?\n"
   ]
  },
  {
   "cell_type": "code",
   "execution_count": 7,
   "metadata": {
    "scrolled": true
   },
   "outputs": [
    {
     "name": "stdout",
     "output_type": "stream",
     "text": [
      "<class 'pandas.core.frame.DataFrame'>\n",
      "RangeIndex: 4818 entries, 0 to 4817\n",
      "Data columns (total 65 columns):\n",
      " #   Column    Non-Null Count  Dtype  \n",
      "---  ------    --------------  -----  \n",
      " 0   X1        4818 non-null   object \n",
      " 1   X2        4818 non-null   object \n",
      " 2   X3        4818 non-null   object \n",
      " 3   X4        4818 non-null   object \n",
      " 4   X5        4818 non-null   object \n",
      " 5   X6        4818 non-null   object \n",
      " 6   X7        4818 non-null   object \n",
      " 7   X8        4818 non-null   object \n",
      " 8   X9        4818 non-null   float64\n",
      " 9   X10       4818 non-null   object \n",
      " 10  X11       4818 non-null   object \n",
      " 11  X12       4818 non-null   object \n",
      " 12  X13       4818 non-null   float64\n",
      " 13  X14       4818 non-null   object \n",
      " 14  X15       4818 non-null   object \n",
      " 15  X16       4818 non-null   object \n",
      " 16  X17       4818 non-null   object \n",
      " 17  X18       4818 non-null   object \n",
      " 18  X19       4818 non-null   float64\n",
      " 19  X20       4818 non-null   float64\n",
      " 20  X21       4818 non-null   object \n",
      " 21  X22       4818 non-null   object \n",
      " 22  X23       4818 non-null   float64\n",
      " 23  X24       4818 non-null   object \n",
      " 24  X25       4818 non-null   object \n",
      " 25  X26       4818 non-null   object \n",
      " 26  X27       4818 non-null   object \n",
      " 27  X28       4818 non-null   object \n",
      " 28  X29       4818 non-null   object \n",
      " 29  X30       4818 non-null   float64\n",
      " 30  X31       4818 non-null   float64\n",
      " 31  X32       4818 non-null   object \n",
      " 32  X33       4818 non-null   object \n",
      " 33  X34       4818 non-null   object \n",
      " 34  X35       4818 non-null   object \n",
      " 35  X36       4818 non-null   object \n",
      " 36  X37       4818 non-null   object \n",
      " 37  X38       4818 non-null   object \n",
      " 38  X39       4818 non-null   float64\n",
      " 39  X40       4818 non-null   object \n",
      " 40  X41       4818 non-null   object \n",
      " 41  X42       4818 non-null   float64\n",
      " 42  X43       4818 non-null   float64\n",
      " 43  X44       4818 non-null   float64\n",
      " 44  X45       4818 non-null   object \n",
      " 45  X46       4818 non-null   object \n",
      " 46  X47       4818 non-null   object \n",
      " 47  X48       4818 non-null   object \n",
      " 48  X49       4818 non-null   float64\n",
      " 49  X50       4818 non-null   object \n",
      " 50  X51       4818 non-null   object \n",
      " 51  X52       4818 non-null   object \n",
      " 52  X53       4818 non-null   object \n",
      " 53  X54       4818 non-null   object \n",
      " 54  X55       4818 non-null   float64\n",
      " 55  X56       4818 non-null   float64\n",
      " 56  X57       4818 non-null   object \n",
      " 57  X58       4818 non-null   float64\n",
      " 58  X59       4818 non-null   object \n",
      " 59  X60       4818 non-null   object \n",
      " 60  X61       4818 non-null   object \n",
      " 61  X62       4818 non-null   float64\n",
      " 62  X63       4818 non-null   object \n",
      " 63  X64       4818 non-null   object \n",
      " 64  Bankrupt  4818 non-null   int64  \n",
      "dtypes: float64(16), int64(1), object(48)\n",
      "memory usage: 2.4+ MB\n"
     ]
    }
   ],
   "source": [
    "data.info()"
   ]
  },
  {
   "cell_type": "markdown",
   "metadata": {},
   "source": [
    "You may be puzzled:\n",
    "- Most attributes are `object` and *not* numeric (`float64`)\n",
    "- But looking at the data via `data.head()` certainly gives the impression that all attributes are numeric\n",
    "\n",
    "Welcome to the world of messy data !  The dataset has represented numbers as strings.\n",
    "- These little unexpected challenges are common in the real-word\n",
    "- Data is rarely perfect and clean"
   ]
  },
  {
   "cell_type": "markdown",
   "metadata": {},
   "source": [
    "So you might want to first convert all attributes to numeric\n",
    "\n",
    "**Hint**\n",
    "- Look up the Pandas method `to_numeric`\n",
    "    - We suggest you use the option `errors='coerce'`\n",
    "    "
   ]
  },
  {
   "cell_type": "markdown",
   "metadata": {},
   "source": [
    "## Convert all object features to numeric\n",
    "### and check the average interquartile range"
   ]
  },
  {
   "cell_type": "code",
   "execution_count": 8,
   "metadata": {
    "scrolled": true
   },
   "outputs": [
    {
     "name": "stdout",
     "output_type": "stream",
     "text": [
      "<class 'pandas.core.frame.DataFrame'>\n",
      "RangeIndex: 4818 entries, 0 to 4817\n",
      "Data columns (total 65 columns):\n",
      " #   Column    Non-Null Count  Dtype  \n",
      "---  ------    --------------  -----  \n",
      " 0   X1        4816 non-null   float64\n",
      " 1   X2        4816 non-null   float64\n",
      " 2   X3        4816 non-null   float64\n",
      " 3   X4        4803 non-null   float64\n",
      " 4   X5        4808 non-null   float64\n",
      " 5   X6        4816 non-null   float64\n",
      " 6   X7        4816 non-null   float64\n",
      " 7   X8        4804 non-null   float64\n",
      " 8   X9        4818 non-null   float64\n",
      " 9   X10       4816 non-null   float64\n",
      " 10  X11       4816 non-null   float64\n",
      " 11  X12       4803 non-null   float64\n",
      " 12  X13       4818 non-null   float64\n",
      " 13  X14       4816 non-null   float64\n",
      " 14  X15       4812 non-null   float64\n",
      " 15  X16       4804 non-null   float64\n",
      " 16  X17       4804 non-null   float64\n",
      " 17  X18       4816 non-null   float64\n",
      " 18  X19       4818 non-null   float64\n",
      " 19  X20       4818 non-null   float64\n",
      " 20  X21       4744 non-null   float64\n",
      " 21  X22       4816 non-null   float64\n",
      " 22  X23       4818 non-null   float64\n",
      " 23  X24       4702 non-null   float64\n",
      " 24  X25       4816 non-null   float64\n",
      " 25  X26       4804 non-null   float64\n",
      " 26  X27       4513 non-null   float64\n",
      " 27  X28       4735 non-null   float64\n",
      " 28  X29       4816 non-null   float64\n",
      " 29  X30       4818 non-null   float64\n",
      " 30  X31       4818 non-null   float64\n",
      " 31  X32       4776 non-null   float64\n",
      " 32  X33       4803 non-null   float64\n",
      " 33  X34       4804 non-null   float64\n",
      " 34  X35       4816 non-null   float64\n",
      " 35  X36       4816 non-null   float64\n",
      " 36  X37       2750 non-null   float64\n",
      " 37  X38       4816 non-null   float64\n",
      " 38  X39       4818 non-null   float64\n",
      " 39  X40       4803 non-null   float64\n",
      " 40  X41       4756 non-null   float64\n",
      " 41  X42       4818 non-null   float64\n",
      " 42  X43       4818 non-null   float64\n",
      " 43  X44       4818 non-null   float64\n",
      " 44  X45       4598 non-null   float64\n",
      " 45  X46       4803 non-null   float64\n",
      " 46  X47       4787 non-null   float64\n",
      " 47  X48       4816 non-null   float64\n",
      " 48  X49       4818 non-null   float64\n",
      " 49  X50       4804 non-null   float64\n",
      " 50  X51       4816 non-null   float64\n",
      " 51  X52       4786 non-null   float64\n",
      " 52  X53       4735 non-null   float64\n",
      " 53  X54       4735 non-null   float64\n",
      " 54  X55       4818 non-null   float64\n",
      " 55  X56       4818 non-null   float64\n",
      " 56  X57       4816 non-null   float64\n",
      " 57  X58       4818 non-null   float64\n",
      " 58  X59       4816 non-null   float64\n",
      " 59  X60       4598 non-null   float64\n",
      " 60  X61       4806 non-null   float64\n",
      " 61  X62       4818 non-null   float64\n",
      " 62  X63       4803 non-null   float64\n",
      " 63  X64       4735 non-null   float64\n",
      " 64  Bankrupt  4818 non-null   int64  \n",
      "dtypes: float64(64), int64(1)\n",
      "memory usage: 2.4 MB\n"
     ]
    }
   ],
   "source": [
    "df = data.apply(pd.to_numeric, errors='coerce')\n",
    "df.info()"
   ]
  },
  {
   "cell_type": "code",
   "execution_count": 9,
   "metadata": {
    "scrolled": false
   },
   "outputs": [
    {
     "data": {
      "text/html": [
       "<div>\n",
       "<style scoped>\n",
       "    .dataframe tbody tr th:only-of-type {\n",
       "        vertical-align: middle;\n",
       "    }\n",
       "\n",
       "    .dataframe tbody tr th {\n",
       "        vertical-align: top;\n",
       "    }\n",
       "\n",
       "    .dataframe thead th {\n",
       "        text-align: right;\n",
       "    }\n",
       "</style>\n",
       "<table border=\"1\" class=\"dataframe\">\n",
       "  <thead>\n",
       "    <tr style=\"text-align: right;\">\n",
       "      <th></th>\n",
       "      <th>X1</th>\n",
       "      <th>X2</th>\n",
       "      <th>X3</th>\n",
       "      <th>X4</th>\n",
       "      <th>X5</th>\n",
       "      <th>X6</th>\n",
       "      <th>X7</th>\n",
       "      <th>X8</th>\n",
       "      <th>X9</th>\n",
       "      <th>X10</th>\n",
       "      <th>...</th>\n",
       "      <th>X56</th>\n",
       "      <th>X57</th>\n",
       "      <th>X58</th>\n",
       "      <th>X59</th>\n",
       "      <th>X60</th>\n",
       "      <th>X61</th>\n",
       "      <th>X62</th>\n",
       "      <th>X63</th>\n",
       "      <th>X64</th>\n",
       "      <th>Bankrupt</th>\n",
       "    </tr>\n",
       "  </thead>\n",
       "  <tbody>\n",
       "    <tr>\n",
       "      <th>count</th>\n",
       "      <td>4816.000000</td>\n",
       "      <td>4816.000000</td>\n",
       "      <td>4816.000000</td>\n",
       "      <td>4803.000000</td>\n",
       "      <td>4.808000e+03</td>\n",
       "      <td>4816.000000</td>\n",
       "      <td>4816.000000</td>\n",
       "      <td>4804.000000</td>\n",
       "      <td>4818.000000</td>\n",
       "      <td>4816.000000</td>\n",
       "      <td>...</td>\n",
       "      <td>4818.000000</td>\n",
       "      <td>4816.000000</td>\n",
       "      <td>4818.000000</td>\n",
       "      <td>4816.000000</td>\n",
       "      <td>4.598000e+03</td>\n",
       "      <td>4806.000000</td>\n",
       "      <td>4818.000000</td>\n",
       "      <td>4803.000000</td>\n",
       "      <td>4735.000000</td>\n",
       "      <td>4818.000000</td>\n",
       "    </tr>\n",
       "    <tr>\n",
       "      <th>mean</th>\n",
       "      <td>-0.055232</td>\n",
       "      <td>0.533272</td>\n",
       "      <td>0.188992</td>\n",
       "      <td>4.978602</td>\n",
       "      <td>1.956441e+01</td>\n",
       "      <td>-0.070060</td>\n",
       "      <td>-0.042516</td>\n",
       "      <td>5.739985</td>\n",
       "      <td>1.579277</td>\n",
       "      <td>0.503606</td>\n",
       "      <td>...</td>\n",
       "      <td>0.056109</td>\n",
       "      <td>0.022793</td>\n",
       "      <td>0.959585</td>\n",
       "      <td>0.273025</td>\n",
       "      <td>1.108795e+03</td>\n",
       "      <td>11.021303</td>\n",
       "      <td>177.494445</td>\n",
       "      <td>9.287631</td>\n",
       "      <td>38.557533</td>\n",
       "      <td>0.063927</td>\n",
       "    </tr>\n",
       "    <tr>\n",
       "      <th>std</th>\n",
       "      <td>6.707351</td>\n",
       "      <td>1.202909</td>\n",
       "      <td>1.282430</td>\n",
       "      <td>100.273952</td>\n",
       "      <td>2.384491e+04</td>\n",
       "      <td>7.778523</td>\n",
       "      <td>6.707970</td>\n",
       "      <td>109.508001</td>\n",
       "      <td>1.342723</td>\n",
       "      <td>4.044036</td>\n",
       "      <td>...</td>\n",
       "      <td>0.755462</td>\n",
       "      <td>7.249022</td>\n",
       "      <td>0.932427</td>\n",
       "      <td>6.338601</td>\n",
       "      <td>7.106563e+04</td>\n",
       "      <td>43.821146</td>\n",
       "      <td>2279.713700</td>\n",
       "      <td>113.225922</td>\n",
       "      <td>588.711967</td>\n",
       "      <td>0.244648</td>\n",
       "    </tr>\n",
       "    <tr>\n",
       "      <th>min</th>\n",
       "      <td>-463.890000</td>\n",
       "      <td>0.000000</td>\n",
       "      <td>-72.067000</td>\n",
       "      <td>0.000000</td>\n",
       "      <td>-1.076400e+06</td>\n",
       "      <td>-463.890000</td>\n",
       "      <td>-463.890000</td>\n",
       "      <td>-3.735100</td>\n",
       "      <td>0.000191</td>\n",
       "      <td>-71.444000</td>\n",
       "      <td>...</td>\n",
       "      <td>-46.788000</td>\n",
       "      <td>-468.670000</td>\n",
       "      <td>-0.085920</td>\n",
       "      <td>-184.980000</td>\n",
       "      <td>-1.244000e+01</td>\n",
       "      <td>-0.092493</td>\n",
       "      <td>0.000000</td>\n",
       "      <td>0.000000</td>\n",
       "      <td>-3.726500</td>\n",
       "      <td>0.000000</td>\n",
       "    </tr>\n",
       "    <tr>\n",
       "      <th>25%</th>\n",
       "      <td>0.004047</td>\n",
       "      <td>0.254670</td>\n",
       "      <td>0.044923</td>\n",
       "      <td>1.099200</td>\n",
       "      <td>-4.312000e+01</td>\n",
       "      <td>0.000000</td>\n",
       "      <td>0.005985</td>\n",
       "      <td>0.481588</td>\n",
       "      <td>1.015600</td>\n",
       "      <td>0.318990</td>\n",
       "      <td>...</td>\n",
       "      <td>0.011478</td>\n",
       "      <td>0.015574</td>\n",
       "      <td>0.876940</td>\n",
       "      <td>0.000000</td>\n",
       "      <td>5.298300e+00</td>\n",
       "      <td>4.229925</td>\n",
       "      <td>45.065750</td>\n",
       "      <td>3.074350</td>\n",
       "      <td>2.114850</td>\n",
       "      <td>0.000000</td>\n",
       "    </tr>\n",
       "    <tr>\n",
       "      <th>50%</th>\n",
       "      <td>0.046487</td>\n",
       "      <td>0.451495</td>\n",
       "      <td>0.218560</td>\n",
       "      <td>1.642300</td>\n",
       "      <td>3.673450e-01</td>\n",
       "      <td>0.000000</td>\n",
       "      <td>0.056685</td>\n",
       "      <td>1.149000</td>\n",
       "      <td>1.140500</td>\n",
       "      <td>0.522325</td>\n",
       "      <td>...</td>\n",
       "      <td>0.053663</td>\n",
       "      <td>0.108940</td>\n",
       "      <td>0.950825</td>\n",
       "      <td>0.006320</td>\n",
       "      <td>9.038900e+00</td>\n",
       "      <td>6.176800</td>\n",
       "      <td>73.879500</td>\n",
       "      <td>4.928700</td>\n",
       "      <td>4.077200</td>\n",
       "      <td>0.000000</td>\n",
       "    </tr>\n",
       "    <tr>\n",
       "      <th>75%</th>\n",
       "      <td>0.116730</td>\n",
       "      <td>0.662178</td>\n",
       "      <td>0.420153</td>\n",
       "      <td>2.929200</td>\n",
       "      <td>4.986775e+01</td>\n",
       "      <td>0.110470</td>\n",
       "      <td>0.136025</td>\n",
       "      <td>2.781300</td>\n",
       "      <td>1.814050</td>\n",
       "      <td>0.721823</td>\n",
       "      <td>...</td>\n",
       "      <td>0.124030</td>\n",
       "      <td>0.240262</td>\n",
       "      <td>0.990358</td>\n",
       "      <td>0.206915</td>\n",
       "      <td>1.720750e+01</td>\n",
       "      <td>9.302800</td>\n",
       "      <td>118.597500</td>\n",
       "      <td>8.067850</td>\n",
       "      <td>9.187600</td>\n",
       "      <td>0.000000</td>\n",
       "    </tr>\n",
       "    <tr>\n",
       "      <th>max</th>\n",
       "      <td>2.352300</td>\n",
       "      <td>72.416000</td>\n",
       "      <td>28.336000</td>\n",
       "      <td>6845.800000</td>\n",
       "      <td>1.250100e+06</td>\n",
       "      <td>203.150000</td>\n",
       "      <td>2.352300</td>\n",
       "      <td>6868.500000</td>\n",
       "      <td>37.807000</td>\n",
       "      <td>266.860000</td>\n",
       "      <td>...</td>\n",
       "      <td>1.000000</td>\n",
       "      <td>87.981000</td>\n",
       "      <td>47.788000</td>\n",
       "      <td>308.150000</td>\n",
       "      <td>4.818700e+06</td>\n",
       "      <td>1308.500000</td>\n",
       "      <td>127450.000000</td>\n",
       "      <td>7641.300000</td>\n",
       "      <td>28999.000000</td>\n",
       "      <td>1.000000</td>\n",
       "    </tr>\n",
       "  </tbody>\n",
       "</table>\n",
       "<p>8 rows × 65 columns</p>\n",
       "</div>"
      ],
      "text/plain": [
       "                X1           X2           X3           X4            X5  \\\n",
       "count  4816.000000  4816.000000  4816.000000  4803.000000  4.808000e+03   \n",
       "mean     -0.055232     0.533272     0.188992     4.978602  1.956441e+01   \n",
       "std       6.707351     1.202909     1.282430   100.273952  2.384491e+04   \n",
       "min    -463.890000     0.000000   -72.067000     0.000000 -1.076400e+06   \n",
       "25%       0.004047     0.254670     0.044923     1.099200 -4.312000e+01   \n",
       "50%       0.046487     0.451495     0.218560     1.642300  3.673450e-01   \n",
       "75%       0.116730     0.662178     0.420153     2.929200  4.986775e+01   \n",
       "max       2.352300    72.416000    28.336000  6845.800000  1.250100e+06   \n",
       "\n",
       "                X6           X7           X8           X9          X10  ...  \\\n",
       "count  4816.000000  4816.000000  4804.000000  4818.000000  4816.000000  ...   \n",
       "mean     -0.070060    -0.042516     5.739985     1.579277     0.503606  ...   \n",
       "std       7.778523     6.707970   109.508001     1.342723     4.044036  ...   \n",
       "min    -463.890000  -463.890000    -3.735100     0.000191   -71.444000  ...   \n",
       "25%       0.000000     0.005985     0.481588     1.015600     0.318990  ...   \n",
       "50%       0.000000     0.056685     1.149000     1.140500     0.522325  ...   \n",
       "75%       0.110470     0.136025     2.781300     1.814050     0.721823  ...   \n",
       "max     203.150000     2.352300  6868.500000    37.807000   266.860000  ...   \n",
       "\n",
       "               X56          X57          X58          X59           X60  \\\n",
       "count  4818.000000  4816.000000  4818.000000  4816.000000  4.598000e+03   \n",
       "mean      0.056109     0.022793     0.959585     0.273025  1.108795e+03   \n",
       "std       0.755462     7.249022     0.932427     6.338601  7.106563e+04   \n",
       "min     -46.788000  -468.670000    -0.085920  -184.980000 -1.244000e+01   \n",
       "25%       0.011478     0.015574     0.876940     0.000000  5.298300e+00   \n",
       "50%       0.053663     0.108940     0.950825     0.006320  9.038900e+00   \n",
       "75%       0.124030     0.240262     0.990358     0.206915  1.720750e+01   \n",
       "max       1.000000    87.981000    47.788000   308.150000  4.818700e+06   \n",
       "\n",
       "               X61            X62          X63           X64     Bankrupt  \n",
       "count  4806.000000    4818.000000  4803.000000   4735.000000  4818.000000  \n",
       "mean     11.021303     177.494445     9.287631     38.557533     0.063927  \n",
       "std      43.821146    2279.713700   113.225922    588.711967     0.244648  \n",
       "min      -0.092493       0.000000     0.000000     -3.726500     0.000000  \n",
       "25%       4.229925      45.065750     3.074350      2.114850     0.000000  \n",
       "50%       6.176800      73.879500     4.928700      4.077200     0.000000  \n",
       "75%       9.302800     118.597500     8.067850      9.187600     0.000000  \n",
       "max    1308.500000  127450.000000  7641.300000  28999.000000     1.000000  \n",
       "\n",
       "[8 rows x 65 columns]"
      ]
     },
     "execution_count": 9,
     "metadata": {},
     "output_type": "execute_result"
    }
   ],
   "source": [
    "df.describe()"
   ]
  },
  {
   "cell_type": "markdown",
   "metadata": {},
   "source": [
    "### Check extreme and drop outliers"
   ]
  },
  {
   "cell_type": "code",
   "execution_count": 10,
   "metadata": {},
   "outputs": [],
   "source": [
    "train_std = df.describe().loc['std',:]\n",
    "extreme = train_std[train_std>10000].index.values\n",
    "regular = [col for col in df.columns[:-1] if col not in extreme]"
   ]
  },
  {
   "cell_type": "code",
   "execution_count": 11,
   "metadata": {
    "scrolled": true
   },
   "outputs": [
    {
     "data": {
      "text/plain": [
       "<matplotlib.axes._subplots.AxesSubplot at 0x7ff057aa7e20>"
      ]
     },
     "execution_count": 11,
     "metadata": {},
     "output_type": "execute_result"
    },
    {
     "data": {
      "image/png": "[encoded data removed]",
      "text/plain": [
       "<Figure size 432x288 with 1 Axes>"
      ]
     },
     "metadata": {
      "needs_background": "light"
     },
     "output_type": "display_data"
    }
   ],
   "source": [
    "df.loc[:,extreme].boxplot()"
   ]
  },
  {
   "cell_type": "code",
   "execution_count": 12,
   "metadata": {
    "scrolled": true
   },
   "outputs": [
    {
     "data": {
      "text/plain": [
       "count    4.776000e+03\n",
       "mean     2.074823e+03\n",
       "std      8.766498e+04\n",
       "min      0.000000e+00\n",
       "25%      4.992400e+01\n",
       "50%      8.123350e+01\n",
       "75%      1.301050e+02\n",
       "max      4.277200e+06\n",
       "Name: X32, dtype: float64"
      ]
     },
     "execution_count": 12,
     "metadata": {},
     "output_type": "execute_result"
    }
   ],
   "source": [
    "df['X32'].describe()"
   ]
  },
  {
   "cell_type": "code",
   "execution_count": 13,
   "metadata": {
    "scrolled": false
   },
   "outputs": [
    {
     "data": {
      "text/plain": [
       "<matplotlib.axes._subplots.AxesSubplot at 0x7ff057a228b0>"
      ]
     },
     "execution_count": 13,
     "metadata": {},
     "output_type": "execute_result"
    },
    {
     "data": {
      "image/png": "[encoded data removed]",
      "text/plain": [
       "<Figure size 432x288 with 1 Axes>"
      ]
     },
     "metadata": {
      "needs_background": "light"
     },
     "output_type": "display_data"
    }
   ],
   "source": [
    "df['X32'].hist()"
   ]
  },
  {
   "cell_type": "code",
   "execution_count": 14,
   "metadata": {},
   "outputs": [
    {
     "data": {
      "text/plain": [
       "<matplotlib.axes._subplots.AxesSubplot at 0x7ff0569d9040>"
      ]
     },
     "execution_count": 14,
     "metadata": {},
     "output_type": "execute_result"
    },
    {
     "data": {
      "image/png": "[encoded data removed]",
      "text/plain": [
       "<Figure size 432x288 with 1 Axes>"
      ]
     },
     "metadata": {
      "needs_background": "light"
     },
     "output_type": "display_data"
    }
   ],
   "source": [
    "median32 = df.loc[df['X32']<1000, 'X32'].median()\n",
    "df['X32'] = np.where(df['X32'] >1000, median32,df['X32'])\n",
    "df['X32'].hist()"
   ]
  },
  {
   "cell_type": "code",
   "execution_count": 15,
   "metadata": {
    "scrolled": true
   },
   "outputs": [
    {
     "data": {
      "text/plain": [
       "count    4.818000e+03\n",
       "mean     1.074023e+04\n",
       "std      8.284685e+04\n",
       "min     -1.118500e+06\n",
       "25%      9.771450e+01\n",
       "50%      1.829500e+03\n",
       "75%      7.786950e+03\n",
       "max      4.212200e+06\n",
       "Name: X55, dtype: float64"
      ]
     },
     "execution_count": 15,
     "metadata": {},
     "output_type": "execute_result"
    }
   ],
   "source": [
    "df['X55'].describe()"
   ]
  },
  {
   "cell_type": "code",
   "execution_count": 16,
   "metadata": {},
   "outputs": [
    {
     "data": {
      "text/plain": [
       "<matplotlib.axes._subplots.AxesSubplot at 0x7ff05746ee50>"
      ]
     },
     "execution_count": 16,
     "metadata": {},
     "output_type": "execute_result"
    },
    {
     "data": {
      "image/png": "[encoded data removed]",
      "text/plain": [
       "<Figure size 432x288 with 1 Axes>"
      ]
     },
     "metadata": {
      "needs_background": "light"
     },
     "output_type": "display_data"
    }
   ],
   "source": [
    "median55 = df.loc[df['X55']<10000, 'X55'].median()\n",
    "df['X55'] = np.where(df['X55'] >10000, median55,df['X55'])\n",
    "df['X55'] = np.where(df['X55'] < 0, median55,df['X55'])\n",
    "df['X55'].hist()"
   ]
  },
  {
   "cell_type": "code",
   "execution_count": 17,
   "metadata": {
    "scrolled": false
   },
   "outputs": [
    {
     "data": {
      "text/plain": [
       "count    4.598000e+03\n",
       "mean     1.108795e+03\n",
       "std      7.106563e+04\n",
       "min     -1.244000e+01\n",
       "25%      5.298300e+00\n",
       "50%      9.038900e+00\n",
       "75%      1.720750e+01\n",
       "max      4.818700e+06\n",
       "Name: X60, dtype: float64"
      ]
     },
     "execution_count": 17,
     "metadata": {},
     "output_type": "execute_result"
    }
   ],
   "source": [
    "df['X60'].describe()"
   ]
  },
  {
   "cell_type": "code",
   "execution_count": 18,
   "metadata": {},
   "outputs": [
    {
     "data": {
      "text/plain": [
       "<matplotlib.axes._subplots.AxesSubplot at 0x7ff0575b8190>"
      ]
     },
     "execution_count": 18,
     "metadata": {},
     "output_type": "execute_result"
    },
    {
     "data": {
      "image/png": "[encoded data removed]",
      "text/plain": [
       "<Figure size 432x288 with 1 Axes>"
      ]
     },
     "metadata": {
      "needs_background": "light"
     },
     "output_type": "display_data"
    }
   ],
   "source": [
    "median60 = df.loc[df['X60']<500, 'X60'].median()\n",
    "df['X60'] = np.where(df['X60'] >500, median60,df['X60'])\n",
    "df['X60'].hist()"
   ]
  },
  {
   "cell_type": "markdown",
   "metadata": {},
   "source": [
    "#### From above boxplots, we know most variables are normally distributed but some have large standard deviations and ranges, such as X32, X60, etc. It might be a good idea to eliminate outliers (companies) that have extreme values on these variables"
   ]
  },
  {
   "cell_type": "markdown",
   "metadata": {},
   "source": [
    "## Missing value\n",
    "check if there are any missing value in dataset"
   ]
  },
  {
   "cell_type": "code",
   "execution_count": 19,
   "metadata": {
    "scrolled": true
   },
   "outputs": [
    {
     "data": {
      "text/plain": [
       "X1           True\n",
       "X2           True\n",
       "X3           True\n",
       "X4           True\n",
       "X5           True\n",
       "            ...  \n",
       "X61          True\n",
       "X62         False\n",
       "X63          True\n",
       "X64          True\n",
       "Bankrupt    False\n",
       "Length: 65, dtype: bool"
      ]
     },
     "execution_count": 19,
     "metadata": {},
     "output_type": "execute_result"
    }
   ],
   "source": [
    "df.isnull().any()"
   ]
  },
  {
   "cell_type": "code",
   "execution_count": 20,
   "metadata": {},
   "outputs": [],
   "source": [
    "# Function to calculate missing values by column\n",
    "def missing_values_table(df):\n",
    "    mis_val = df.isnull().sum()\n",
    "    mis_val_percent = 100 * mis_val /len(df)\n",
    "    # Make a table with the results \n",
    "    mis_val_table = pd.concat([mis_val, mis_val_percent], axis=1)\n",
    "    # Rename the columns\n",
    "    mis_val_table_ren_columns = mis_val_table.rename(\n",
    "    columns = {0: 'Missing Values Number', 1: '% of Missing'})\n",
    "    # Sort the table by % of Missing, descending\n",
    "    mis_val_table_ren_columns = mis_val_table_ren_columns[\n",
    "        mis_val_table_ren_columns.iloc[:,1]!=0].sort_values(\n",
    "    '% of Missing', ascending = False). round(2)\n",
    "    #print some summart info\n",
    "    print(\"Your selected dataframe has \" + str(df.shape[1]) + \" columns.\\n\" \n",
    "         + \"There are \" + str(mis_val_table_ren_columns.shape[0]) +\n",
    "         \"columns with missing values.\")\n",
    "    \n",
    "    return mis_val_table_ren_columns"
   ]
  },
  {
   "cell_type": "code",
   "execution_count": 21,
   "metadata": {
    "scrolled": true
   },
   "outputs": [
    {
     "name": "stdout",
     "output_type": "stream",
     "text": [
      "Your selected dataframe has 65 columns.\n",
      "There are 48columns with missing values.\n"
     ]
    },
    {
     "data": {
      "text/html": [
       "<div>\n",
       "<style scoped>\n",
       "    .dataframe tbody tr th:only-of-type {\n",
       "        vertical-align: middle;\n",
       "    }\n",
       "\n",
       "    .dataframe tbody tr th {\n",
       "        vertical-align: top;\n",
       "    }\n",
       "\n",
       "    .dataframe thead th {\n",
       "        text-align: right;\n",
       "    }\n",
       "</style>\n",
       "<table border=\"1\" class=\"dataframe\">\n",
       "  <thead>\n",
       "    <tr style=\"text-align: right;\">\n",
       "      <th></th>\n",
       "      <th>Missing Values Number</th>\n",
       "      <th>% of Missing</th>\n",
       "    </tr>\n",
       "  </thead>\n",
       "  <tbody>\n",
       "    <tr>\n",
       "      <th>X37</th>\n",
       "      <td>2068</td>\n",
       "      <td>42.92</td>\n",
       "    </tr>\n",
       "    <tr>\n",
       "      <th>X27</th>\n",
       "      <td>305</td>\n",
       "      <td>6.33</td>\n",
       "    </tr>\n",
       "    <tr>\n",
       "      <th>X60</th>\n",
       "      <td>220</td>\n",
       "      <td>4.57</td>\n",
       "    </tr>\n",
       "    <tr>\n",
       "      <th>X45</th>\n",
       "      <td>220</td>\n",
       "      <td>4.57</td>\n",
       "    </tr>\n",
       "    <tr>\n",
       "      <th>X24</th>\n",
       "      <td>116</td>\n",
       "      <td>2.41</td>\n",
       "    </tr>\n",
       "    <tr>\n",
       "      <th>X64</th>\n",
       "      <td>83</td>\n",
       "      <td>1.72</td>\n",
       "    </tr>\n",
       "    <tr>\n",
       "      <th>X54</th>\n",
       "      <td>83</td>\n",
       "      <td>1.72</td>\n",
       "    </tr>\n",
       "    <tr>\n",
       "      <th>X53</th>\n",
       "      <td>83</td>\n",
       "      <td>1.72</td>\n",
       "    </tr>\n",
       "    <tr>\n",
       "      <th>X28</th>\n",
       "      <td>83</td>\n",
       "      <td>1.72</td>\n",
       "    </tr>\n",
       "    <tr>\n",
       "      <th>X21</th>\n",
       "      <td>74</td>\n",
       "      <td>1.54</td>\n",
       "    </tr>\n",
       "  </tbody>\n",
       "</table>\n",
       "</div>"
      ],
      "text/plain": [
       "     Missing Values Number  % of Missing\n",
       "X37                   2068         42.92\n",
       "X27                    305          6.33\n",
       "X60                    220          4.57\n",
       "X45                    220          4.57\n",
       "X24                    116          2.41\n",
       "X64                     83          1.72\n",
       "X54                     83          1.72\n",
       "X53                     83          1.72\n",
       "X28                     83          1.72\n",
       "X21                     74          1.54"
      ]
     },
     "execution_count": 21,
     "metadata": {},
     "output_type": "execute_result"
    }
   ],
   "source": [
    "# Missing Values Stat\n",
    "missing_values = missing_values_table(df)\n",
    "missing_values.head(10)"
   ]
  },
  {
   "cell_type": "code",
   "execution_count": 22,
   "metadata": {},
   "outputs": [
    {
     "name": "stdout",
     "output_type": "stream",
     "text": [
      "Data shape:  (4818, 64)\n"
     ]
    }
   ],
   "source": [
    "# Since only feature X37 has over 40% of missing value, we delete this feature.\n",
    "df.drop('X37', axis = 1, inplace = True)\n",
    "print(\"Data shape: \", df.shape)"
   ]
  },
  {
   "cell_type": "markdown",
   "metadata": {},
   "source": [
    "### Missing value imputation and scaling\n",
    "#### a) Imputer: Impute missing value by median\n",
    "#### b) Scaler: Standardize and align the units between feature variables\n",
    "### Using a pipeline to make multiple processes performed at once."
   ]
  },
  {
   "cell_type": "code",
   "execution_count": 23,
   "metadata": {},
   "outputs": [],
   "source": [
    "pipe = Pipeline([\n",
    "    (\"impute\", SimpleImputer(strategy=\"median\", missing_values=np.nan)),\n",
    "    (\"scaler\", StandardScaler()),\n",
    "])"
   ]
  },
  {
   "cell_type": "code",
   "execution_count": 24,
   "metadata": {},
   "outputs": [],
   "source": [
    "target = 'Bankrupt'\n",
    "X = pipe.fit_transform(df.drop(target, axis=1))\n",
    "y = df[target].values"
   ]
  },
  {
   "cell_type": "markdown",
   "metadata": {},
   "source": [
    "### Tried PCA, but it seems not improve model"
   ]
  },
  {
   "cell_type": "raw",
   "metadata": {},
   "source": [
    "from sklearn.decomposition import PCA\n",
    "pca = PCA(0.95,random_state = 42)\n",
    "X = pca.fit_transform(X)\n",
    "X.shape"
   ]
  },
  {
   "cell_type": "markdown",
   "metadata": {},
   "source": [
    "## Applied upsampling method and Split dataset into train set and test set\n",
    "### Since we have an imbalanced dataset, we have to to oversample the examples in the minority class. Here I used SMOTE(Synthetic Minority Oversampling Technique) to do so.\n",
    "### Though it can also be achieved by simply duplicating examples from the minority class in the training dataset prior to fitting a model, it can only balance the class distribution but does not provide any additional information to the model.\n",
    "### However with SMOTE,it can synthesize new examples from the minority class. This is a type of data augmentation for tabular data and can be very effective."
   ]
  },
  {
   "cell_type": "code",
   "execution_count": 25,
   "metadata": {},
   "outputs": [],
   "source": [
    "def upsampling_minority(X, y):\n",
    "    # setting up testing and training sets\n",
    "    X_train, X_test, y_train, y_test = train_test_split(X, y, test_size=0.15, random_state=42,stratify=y)\n",
    "    \n",
    "    print('Before upsampling: training data shape', X_train.shape, 'test data shape', X_test.shape)\n",
    "    print(\"Unbalanced training data{}\".format({n: v for n, v in zip(['Not Bankrupt', 'Bankrupt'], np.bincount(y_train))}))\n",
    "    \n",
    "    sm = SMOTE(random_state=10)\n",
    "    X_train, y_train = sm.fit_resample(X_train, y_train)\n",
    "   \n",
    "    print('Finished upsampling: training data shape', X_train.shape, 'test data shape', X_test.shape)\n",
    "    print(\"Balanced training data {}\".format({n: v for n, v in zip(['Not Bankrupt', 'Bankrupt'], np.bincount(y_train))}))\n",
    "    \n",
    "    return X_train, X_test, y_train, y_test"
   ]
  },
  {
   "cell_type": "code",
   "execution_count": 26,
   "metadata": {},
   "outputs": [
    {
     "name": "stdout",
     "output_type": "stream",
     "text": [
      "Before upsampling: training data shape (4095, 63) test data shape (723, 63)\n",
      "Unbalanced training data{'Not Bankrupt': 3833, 'Bankrupt': 262}\n",
      "Finished upsampling: training data shape (7666, 63) test data shape (723, 63)\n",
      "Balanced training data {'Not Bankrupt': 3833, 'Bankrupt': 3833}\n"
     ]
    }
   ],
   "source": [
    "X_train, X_test, y_train, y_test = upsampling_minority(X, y)"
   ]
  },
  {
   "cell_type": "markdown",
   "metadata": {},
   "source": [
    "# Date Processing"
   ]
  },
  {
   "cell_type": "markdown",
   "metadata": {},
   "source": [
    "### Prepare the data and Classifier\n",
    "#### I tried different paramenters in LogisticRegression and find best paramaters for this LR Classifier"
   ]
  },
  {
   "cell_type": "raw",
   "metadata": {},
   "source": [
    "# Compare penalty 'L1' and 'L2' --> Same validation, so we use default l2\n",
    "threshold = 1e-6\n",
    "\n",
    "clf1 = LogisticRegression(penalty = 'l1',solver='liblinear')\n",
    "clf2 = LogisticRegression(penalty = 'l2',solver='liblinear')\n",
    "\n",
    "model_list = (clf1, clf2)\n",
    "\n",
    "for clf in model_list:\n",
    "    clf.fit(X_train, y_train)\n",
    "    feature_weight = clf.coef_\n",
    "    print(\"The validation score of model\",clf.score(X_test,y_test))\n",
    "    print(\"The number of selected feature of model\",(np.sum(abs(feature_weight) > threshold)))"
   ]
  },
  {
   "cell_type": "raw",
   "metadata": {},
   "source": [
    "# parameter analysis -- find the best C\n",
    "listC = 10.0**np.arange(-4,4)\n",
    "parameter = {'C':listC}\n",
    "lr = LogisticRegression(penalty = 'l2')\n",
    "clf = GridSearchCV(lr, parameter)\n",
    "\n",
    "clf.fit(X_train, y_train)\n",
    "print(\"The best parameter is\",clf.best_params_)\n",
    "print(\"The best score is\",clf.best_score_)"
   ]
  },
  {
   "cell_type": "code",
   "execution_count": 27,
   "metadata": {},
   "outputs": [],
   "source": [
    "#  Create a StandardScaler object\n",
    "scaler = StandardScaler()\n",
    "\n",
    "## Classification Model\n",
    "#  Create a classifier\n",
    "# clf: sklearn classifier\n",
    "# name: name of your classifier\n",
    "clf = LogisticRegression(penalty='l2',solver='liblinear',C=0.0001)\n",
    "name = \"Logistic Classifier\"\n",
    "#train_samples = X_train.shape[0]\n",
    "\n",
    "pre_pip = Pipeline(steps = [('scaler', scaler)])\n",
    "model_pipeline = Pipeline(steps = [('transform',pre_pip),('classify',clf)])"
   ]
  },
  {
   "cell_type": "markdown",
   "metadata": {},
   "source": [
    "## Train Model"
   ]
  },
  {
   "cell_type": "code",
   "execution_count": 28,
   "metadata": {},
   "outputs": [
    {
     "name": "stdout",
     "output_type": "stream",
     "text": [
      "Model: Logistic Classifier in sample score=0.73\n",
      "\n"
     ]
    }
   ],
   "source": [
    "# score_in_sample: a scalar number, score for in-sample examples\n",
    "_ = model_pipeline.fit(X_train, y_train)\n",
    "score_in_sample = accuracy_score(model_pipeline.predict(X_train), y_train)\n",
    "\n",
    "print(\"Model: {m:s} in sample score={s:3.2f}\\n\".format(m=name, s=score_in_sample))"
   ]
  },
  {
   "cell_type": "markdown",
   "metadata": {},
   "source": [
    "## Train the model using 5-fold Cross Validation"
   ]
  },
  {
   "cell_type": "code",
   "execution_count": 29,
   "metadata": {
    "scrolled": true
   },
   "outputs": [
    {
     "name": "stdout",
     "output_type": "stream",
     "text": [
      "Model: Logistic Classifier avg cross validation score=0.71\n",
      "\n"
     ]
    }
   ],
   "source": [
    "cross_val_scores = cross_val_score(clf, X_train, y_train, cv=5) # Check 5-fold cross validation score\n",
    "\n",
    "print(\"Model: {m:s} avg cross validation score={s:3.2f}\\n\".format(m=name, s=cross_val_scores.mean()) )"
   ]
  },
  {
   "cell_type": "markdown",
   "metadata": {},
   "source": [
    "### Calculate the number of parameters in model. Report only the number of non-intercept parameters."
   ]
  },
  {
   "cell_type": "code",
   "execution_count": 30,
   "metadata": {},
   "outputs": [
    {
     "name": "stdout",
     "output_type": "stream",
     "text": [
      "\n",
      "Shape of intercept: (1,); shape of coefficients: (63,)\n"
     ]
    }
   ],
   "source": [
    "#clf = clf[\"classify\"]\n",
    "num_parameters = clf.coef_[0].shape\n",
    "\n",
    "print(\"\\nShape of intercept: {i}; shape of coefficients: {c}\".format(i=clf.intercept_.shape,\n",
    "                                                                   c=num_parameters) )"
   ]
  },
  {
   "cell_type": "markdown",
   "metadata": {},
   "source": [
    "#### Show coefficients distribution  -->roughly normal distribution"
   ]
  },
  {
   "cell_type": "code",
   "execution_count": 31,
   "metadata": {},
   "outputs": [
    {
     "name": "stdout",
     "output_type": "stream",
     "text": [
      "[[-0.00657711  0.0293393  -0.02944378 -0.01034528 -0.01036125 -0.0073084\n",
      "  -0.00666619 -0.01171413  0.03548689 -0.00271011 -0.00652242 -0.03391103\n",
      "  -0.00436447 -0.00666675 -0.00185011 -0.04955212 -0.01178625 -0.00686672\n",
      "   0.00254147  0.01239083 -0.01025961 -0.00646068  0.0028462  -0.00750836\n",
      "  -0.00406903 -0.0478527  -0.0081589  -0.00450229 -0.07688949  0.00463185\n",
      "   0.00390626  0.06525831  0.01082053  0.00041756 -0.00693123  0.00660882\n",
      "  -0.0027626  -0.03227109 -0.00020342 -0.00645844  0.00256928  0.01177\n",
      "   0.01031047 -0.0036984  -0.00959819  0.00040231 -0.00575977  0.00311564\n",
      "  -0.01682929  0.02767944  0.01185413  0.00259605  0.00272783 -0.07312371\n",
      "  -0.02778619 -0.00584933  0.01680136  0.00887187  0.00679384  0.00532113\n",
      "   0.00939697  0.00627981  0.00237363]]\n",
      "[0.00024594]\n"
     ]
    },
    {
     "data": {
      "text/plain": [
       "<matplotlib.axes._subplots.AxesSubplot at 0x7ff05740e3d0>"
      ]
     },
     "execution_count": 31,
     "metadata": {},
     "output_type": "execute_result"
    },
    {
     "data": {
      "image/png": "[encoded data removed]",
      "text/plain": [
       "<Figure size 432x288 with 1 Axes>"
      ]
     },
     "metadata": {
      "needs_background": "light"
     },
     "output_type": "display_data"
    }
   ],
   "source": [
    "coe = clf.coef_\n",
    "print(coe)\n",
    "print(clf.intercept_)\n",
    "\n",
    "# Plot distribution of coefficients to find pattern\n",
    "sns.distplot(coe, rug=True, hist=False)"
   ]
  },
  {
   "cell_type": "code",
   "execution_count": 32,
   "metadata": {
    "scrolled": true
   },
   "outputs": [
    {
     "name": "stdout",
     "output_type": "stream",
     "text": [
      "Model: Logistic Classifier out-of-sample score=0.57\n",
      "\n"
     ]
    }
   ],
   "source": [
    "# Set variable to store the model accuracy on the test set\n",
    "score_out_of_sample = accuracy_score(clf.predict(X_test), y_test)\n",
    "\n",
    "print(\"Model: {m:s} out-of-sample score={s:3.2f}\\n\".format(m=name, s=score_out_of_sample))"
   ]
  },
  {
   "cell_type": "markdown",
   "metadata": {},
   "source": [
    "## Compare the models: LR, Random Forest, Svm and Gradient boosting\n",
    "### By calculating accuracy(both in sample and out sample),recall, precision, and plot precision-recall curve for each model"
   ]
  },
  {
   "cell_type": "code",
   "execution_count": 33,
   "metadata": {},
   "outputs": [],
   "source": [
    "def find_score(model,nam,X_train,X_test):\n",
    "    _=model.fit(X_train, y_train)\n",
    "    score_in = accuracy_score(model.predict(X_train), y_train)\n",
    "    print(\"Model: {m:s} in sample score={s:3.2f}\\n\".format(m= nam, s=score_in))\n",
    "\n",
    "    score_out = accuracy_score(model.predict(X_test), y_test)\n",
    "    print(\"Model: {m:s} out-of-sample score={s:3.2f}\\n\".format(m= nam, s=score_out))\n",
    "\n",
    "    y_pred = model.predict(X_test)\n",
    "    recall = recall_score(y_test, y_pred, pos_label=1, average=\"binary\")\n",
    "    precision = precision_score(y_test, y_pred, pos_label=1, average=\"binary\")\n",
    "    print(\"Model: {m:s} recall score={s:3.2f}\\n\".format(m= nam, s=recall))\n",
    "    print(\"Model: {m:s} precision score={s:3.2f}\\n\".format(m= nam, s=precision))\n",
    "    \n",
    "    #average_precision = average_precision_score(y_test, y_pred)\n",
    "    disp = plot_precision_recall_curve(model, X_test, y_test)\n",
    "    disp.ax_.set_title('2-class Precision-Recall curve: '\n",
    "                   'AP={0:0.2f}'.format(precision))"
   ]
  },
  {
   "cell_type": "code",
   "execution_count": 34,
   "metadata": {
    "scrolled": true
   },
   "outputs": [],
   "source": [
    "# Random forest\n",
    "rf = RandomForestClassifier(n_estimators=10, criterion='gini', max_depth=None, min_samples_split=2, \n",
    "                            min_samples_leaf=1, min_weight_fraction_leaf=0.0, max_features='auto', max_leaf_nodes=None,\n",
    "                            bootstrap=True, oob_score=False, n_jobs=1, random_state=42, verbose=0)"
   ]
  },
  {
   "cell_type": "code",
   "execution_count": 35,
   "metadata": {
    "scrolled": true
   },
   "outputs": [
    {
     "name": "stdout",
     "output_type": "stream",
     "text": [
      "Model: random forest in sample score=1.00\n",
      "\n",
      "Model: random forest out-of-sample score=0.92\n",
      "\n",
      "Model: random forest recall score=0.41\n",
      "\n",
      "Model: random forest precision score=0.37\n",
      "\n"
     ]
    },
    {
     "data": {
      "image/png": "[encoded data removed]",
      "text/plain": [
       "<Figure size 432x288 with 1 Axes>"
      ]
     },
     "metadata": {
      "needs_background": "light"
     },
     "output_type": "display_data"
    }
   ],
   "source": [
    "find_score(rf,'random forest',X_train,X_test)"
   ]
  },
  {
   "cell_type": "markdown",
   "metadata": {},
   "source": [
    "### Used Feature importance to select features"
   ]
  },
  {
   "cell_type": "code",
   "execution_count": 36,
   "metadata": {
    "scrolled": true
   },
   "outputs": [
    {
     "data": {
      "text/html": [
       "<div>\n",
       "<style scoped>\n",
       "    .dataframe tbody tr th:only-of-type {\n",
       "        vertical-align: middle;\n",
       "    }\n",
       "\n",
       "    .dataframe tbody tr th {\n",
       "        vertical-align: top;\n",
       "    }\n",
       "\n",
       "    .dataframe thead th {\n",
       "        text-align: right;\n",
       "    }\n",
       "</style>\n",
       "<table border=\"1\" class=\"dataframe\">\n",
       "  <thead>\n",
       "    <tr style=\"text-align: right;\">\n",
       "      <th></th>\n",
       "      <th>feature</th>\n",
       "      <th>feature importance</th>\n",
       "    </tr>\n",
       "  </thead>\n",
       "  <tbody>\n",
       "    <tr>\n",
       "      <th>37</th>\n",
       "      <td>X39</td>\n",
       "      <td>0.089079</td>\n",
       "    </tr>\n",
       "    <tr>\n",
       "      <th>34</th>\n",
       "      <td>X35</td>\n",
       "      <td>0.071889</td>\n",
       "    </tr>\n",
       "    <tr>\n",
       "      <th>44</th>\n",
       "      <td>X46</td>\n",
       "      <td>0.037639</td>\n",
       "    </tr>\n",
       "    <tr>\n",
       "      <th>25</th>\n",
       "      <td>X26</td>\n",
       "      <td>0.037028</td>\n",
       "    </tr>\n",
       "    <tr>\n",
       "      <th>26</th>\n",
       "      <td>X27</td>\n",
       "      <td>0.035576</td>\n",
       "    </tr>\n",
       "    <tr>\n",
       "      <th>...</th>\n",
       "      <td>...</td>\n",
       "      <td>...</td>\n",
       "    </tr>\n",
       "    <tr>\n",
       "      <th>48</th>\n",
       "      <td>X50</td>\n",
       "      <td>0.006285</td>\n",
       "    </tr>\n",
       "    <tr>\n",
       "      <th>46</th>\n",
       "      <td>X48</td>\n",
       "      <td>0.005629</td>\n",
       "    </tr>\n",
       "    <tr>\n",
       "      <th>6</th>\n",
       "      <td>X7</td>\n",
       "      <td>0.005421</td>\n",
       "    </tr>\n",
       "    <tr>\n",
       "      <th>60</th>\n",
       "      <td>X62</td>\n",
       "      <td>0.004086</td>\n",
       "    </tr>\n",
       "    <tr>\n",
       "      <th>13</th>\n",
       "      <td>X14</td>\n",
       "      <td>0.003099</td>\n",
       "    </tr>\n",
       "  </tbody>\n",
       "</table>\n",
       "<p>63 rows × 2 columns</p>\n",
       "</div>"
      ],
      "text/plain": [
       "   feature  feature importance\n",
       "37     X39            0.089079\n",
       "34     X35            0.071889\n",
       "44     X46            0.037639\n",
       "25     X26            0.037028\n",
       "26     X27            0.035576\n",
       "..     ...                 ...\n",
       "48     X50            0.006285\n",
       "46     X48            0.005629\n",
       "6       X7            0.005421\n",
       "60     X62            0.004086\n",
       "13     X14            0.003099\n",
       "\n",
       "[63 rows x 2 columns]"
      ]
     },
     "execution_count": 36,
     "metadata": {},
     "output_type": "execute_result"
    }
   ],
   "source": [
    "feature_name = pd.DataFrame()\n",
    "feature_name['feature'] = df.columns[0:-1]\n",
    "feature_name['feature importance'] = rf.feature_importances_\n",
    "feature_name = feature_name.sort_values(by = \"feature importance\",ascending = False)\n",
    "feature_name"
   ]
  },
  {
   "cell_type": "code",
   "execution_count": 37,
   "metadata": {
    "scrolled": true
   },
   "outputs": [
    {
     "data": {
      "text/html": [
       "<div>\n",
       "<style scoped>\n",
       "    .dataframe tbody tr th:only-of-type {\n",
       "        vertical-align: middle;\n",
       "    }\n",
       "\n",
       "    .dataframe tbody tr th {\n",
       "        vertical-align: top;\n",
       "    }\n",
       "\n",
       "    .dataframe thead th {\n",
       "        text-align: right;\n",
       "    }\n",
       "</style>\n",
       "<table border=\"1\" class=\"dataframe\">\n",
       "  <thead>\n",
       "    <tr style=\"text-align: right;\">\n",
       "      <th></th>\n",
       "      <th>X39</th>\n",
       "      <th>X35</th>\n",
       "      <th>X46</th>\n",
       "      <th>X26</th>\n",
       "      <th>X27</th>\n",
       "      <th>X38</th>\n",
       "      <th>X42</th>\n",
       "      <th>X19</th>\n",
       "      <th>X18</th>\n",
       "      <th>X6</th>\n",
       "      <th>...</th>\n",
       "      <th>X47</th>\n",
       "      <th>X9</th>\n",
       "      <th>X64</th>\n",
       "      <th>X44</th>\n",
       "      <th>X56</th>\n",
       "      <th>X1</th>\n",
       "      <th>X59</th>\n",
       "      <th>X22</th>\n",
       "      <th>X40</th>\n",
       "      <th>X8</th>\n",
       "    </tr>\n",
       "  </thead>\n",
       "  <tbody>\n",
       "    <tr>\n",
       "      <th>0</th>\n",
       "      <td>0.043546</td>\n",
       "      <td>0.021055</td>\n",
       "      <td>-0.018635</td>\n",
       "      <td>-0.015527</td>\n",
       "      <td>-0.036193</td>\n",
       "      <td>-0.012538</td>\n",
       "      <td>0.025608</td>\n",
       "      <td>0.023651</td>\n",
       "      <td>0.022002</td>\n",
       "      <td>0.053752</td>\n",
       "      <td>...</td>\n",
       "      <td>-0.041659</td>\n",
       "      <td>-0.394223</td>\n",
       "      <td>-0.049421</td>\n",
       "      <td>-0.017420</td>\n",
       "      <td>-0.011239</td>\n",
       "      <td>0.021780</td>\n",
       "      <td>-0.043069</td>\n",
       "      <td>0.020702</td>\n",
       "      <td>-0.023961</td>\n",
       "      <td>-0.037713</td>\n",
       "    </tr>\n",
       "    <tr>\n",
       "      <th>1</th>\n",
       "      <td>0.058895</td>\n",
       "      <td>0.020238</td>\n",
       "      <td>-0.025499</td>\n",
       "      <td>-0.026274</td>\n",
       "      <td>-0.035775</td>\n",
       "      <td>-0.032099</td>\n",
       "      <td>0.029769</td>\n",
       "      <td>0.023007</td>\n",
       "      <td>0.017258</td>\n",
       "      <td>0.009006</td>\n",
       "      <td>...</td>\n",
       "      <td>-0.030852</td>\n",
       "      <td>0.088280</td>\n",
       "      <td>0.044364</td>\n",
       "      <td>0.083663</td>\n",
       "      <td>0.010089</td>\n",
       "      <td>0.018424</td>\n",
       "      <td>-0.043069</td>\n",
       "      <td>0.019687</td>\n",
       "      <td>-0.033531</td>\n",
       "      <td>-0.044591</td>\n",
       "    </tr>\n",
       "    <tr>\n",
       "      <th>2</th>\n",
       "      <td>-0.038655</td>\n",
       "      <td>0.000208</td>\n",
       "      <td>-0.031191</td>\n",
       "      <td>-0.026911</td>\n",
       "      <td>-0.036258</td>\n",
       "      <td>-0.029153</td>\n",
       "      <td>0.001836</td>\n",
       "      <td>0.015108</td>\n",
       "      <td>0.005785</td>\n",
       "      <td>0.030350</td>\n",
       "      <td>...</td>\n",
       "      <td>-0.021370</td>\n",
       "      <td>-0.475476</td>\n",
       "      <td>-0.043032</td>\n",
       "      <td>0.008021</td>\n",
       "      <td>-0.157422</td>\n",
       "      <td>0.009429</td>\n",
       "      <td>-0.043069</td>\n",
       "      <td>-0.000141</td>\n",
       "      <td>-0.033822</td>\n",
       "      <td>-0.044172</td>\n",
       "    </tr>\n",
       "    <tr>\n",
       "      <th>3</th>\n",
       "      <td>0.079958</td>\n",
       "      <td>0.024087</td>\n",
       "      <td>-0.031586</td>\n",
       "      <td>-0.025168</td>\n",
       "      <td>-0.035801</td>\n",
       "      <td>-0.015046</td>\n",
       "      <td>0.036251</td>\n",
       "      <td>0.025332</td>\n",
       "      <td>0.020254</td>\n",
       "      <td>0.018143</td>\n",
       "      <td>...</td>\n",
       "      <td>-0.033722</td>\n",
       "      <td>0.059380</td>\n",
       "      <td>-0.058958</td>\n",
       "      <td>-0.026543</td>\n",
       "      <td>0.031193</td>\n",
       "      <td>0.020964</td>\n",
       "      <td>0.022637</td>\n",
       "      <td>0.023812</td>\n",
       "      <td>-0.033552</td>\n",
       "      <td>-0.046930</td>\n",
       "    </tr>\n",
       "    <tr>\n",
       "      <th>4</th>\n",
       "      <td>0.036838</td>\n",
       "      <td>0.027266</td>\n",
       "      <td>-0.006099</td>\n",
       "      <td>0.010089</td>\n",
       "      <td>-0.036199</td>\n",
       "      <td>0.046762</td>\n",
       "      <td>0.023668</td>\n",
       "      <td>0.022858</td>\n",
       "      <td>0.028278</td>\n",
       "      <td>0.054482</td>\n",
       "      <td>...</td>\n",
       "      <td>-0.038059</td>\n",
       "      <td>-0.397649</td>\n",
       "      <td>-0.049605</td>\n",
       "      <td>-0.084572</td>\n",
       "      <td>-0.016833</td>\n",
       "      <td>0.027319</td>\n",
       "      <td>-0.043069</td>\n",
       "      <td>0.026911</td>\n",
       "      <td>-0.015427</td>\n",
       "      <td>-0.004062</td>\n",
       "    </tr>\n",
       "    <tr>\n",
       "      <th>...</th>\n",
       "      <td>...</td>\n",
       "      <td>...</td>\n",
       "      <td>...</td>\n",
       "      <td>...</td>\n",
       "      <td>...</td>\n",
       "      <td>...</td>\n",
       "      <td>...</td>\n",
       "      <td>...</td>\n",
       "      <td>...</td>\n",
       "      <td>...</td>\n",
       "      <td>...</td>\n",
       "      <td>...</td>\n",
       "      <td>...</td>\n",
       "      <td>...</td>\n",
       "      <td>...</td>\n",
       "      <td>...</td>\n",
       "      <td>...</td>\n",
       "      <td>...</td>\n",
       "      <td>...</td>\n",
       "      <td>...</td>\n",
       "      <td>...</td>\n",
       "    </tr>\n",
       "    <tr>\n",
       "      <th>7661</th>\n",
       "      <td>0.611905</td>\n",
       "      <td>0.016735</td>\n",
       "      <td>-0.040636</td>\n",
       "      <td>-0.029522</td>\n",
       "      <td>-0.036189</td>\n",
       "      <td>-0.553370</td>\n",
       "      <td>0.189374</td>\n",
       "      <td>0.050086</td>\n",
       "      <td>0.009933</td>\n",
       "      <td>-0.217806</td>\n",
       "      <td>...</td>\n",
       "      <td>-0.042221</td>\n",
       "      <td>-1.034323</td>\n",
       "      <td>-0.064681</td>\n",
       "      <td>-0.127090</td>\n",
       "      <td>0.585746</td>\n",
       "      <td>0.013616</td>\n",
       "      <td>-0.043069</td>\n",
       "      <td>0.016331</td>\n",
       "      <td>-0.034687</td>\n",
       "      <td>-0.058061</td>\n",
       "    </tr>\n",
       "    <tr>\n",
       "      <th>7662</th>\n",
       "      <td>-0.447364</td>\n",
       "      <td>-0.030746</td>\n",
       "      <td>-0.038439</td>\n",
       "      <td>-0.033557</td>\n",
       "      <td>-0.036527</td>\n",
       "      <td>-0.175798</td>\n",
       "      <td>-0.128357</td>\n",
       "      <td>-0.054272</td>\n",
       "      <td>-0.032883</td>\n",
       "      <td>-0.057120</td>\n",
       "      <td>...</td>\n",
       "      <td>-0.024534</td>\n",
       "      <td>-0.708583</td>\n",
       "      <td>-0.063346</td>\n",
       "      <td>-0.048554</td>\n",
       "      <td>-0.490023</td>\n",
       "      <td>-0.028914</td>\n",
       "      <td>0.191936</td>\n",
       "      <td>-0.033614</td>\n",
       "      <td>-0.033911</td>\n",
       "      <td>-0.054301</td>\n",
       "    </tr>\n",
       "    <tr>\n",
       "      <th>7663</th>\n",
       "      <td>-0.114578</td>\n",
       "      <td>-0.026990</td>\n",
       "      <td>-0.038895</td>\n",
       "      <td>-0.038602</td>\n",
       "      <td>-0.036148</td>\n",
       "      <td>-0.024892</td>\n",
       "      <td>-0.020120</td>\n",
       "      <td>-0.000187</td>\n",
       "      <td>-0.029266</td>\n",
       "      <td>-0.020373</td>\n",
       "      <td>...</td>\n",
       "      <td>-0.040346</td>\n",
       "      <td>-0.478887</td>\n",
       "      <td>-0.059474</td>\n",
       "      <td>-0.119451</td>\n",
       "      <td>-0.164358</td>\n",
       "      <td>-0.025840</td>\n",
       "      <td>-0.014182</td>\n",
       "      <td>-0.027332</td>\n",
       "      <td>-0.034998</td>\n",
       "      <td>-0.045180</td>\n",
       "    </tr>\n",
       "    <tr>\n",
       "      <th>7664</th>\n",
       "      <td>-0.136450</td>\n",
       "      <td>0.009224</td>\n",
       "      <td>0.039953</td>\n",
       "      <td>0.015893</td>\n",
       "      <td>-0.029030</td>\n",
       "      <td>0.026923</td>\n",
       "      <td>0.251753</td>\n",
       "      <td>0.125686</td>\n",
       "      <td>0.074001</td>\n",
       "      <td>-0.008409</td>\n",
       "      <td>...</td>\n",
       "      <td>-0.024249</td>\n",
       "      <td>-0.623381</td>\n",
       "      <td>-0.032791</td>\n",
       "      <td>-0.061333</td>\n",
       "      <td>-0.183895</td>\n",
       "      <td>0.060482</td>\n",
       "      <td>-0.043069</td>\n",
       "      <td>0.078170</td>\n",
       "      <td>0.031683</td>\n",
       "      <td>-0.022437</td>\n",
       "    </tr>\n",
       "    <tr>\n",
       "      <th>7665</th>\n",
       "      <td>0.272969</td>\n",
       "      <td>-0.008950</td>\n",
       "      <td>-0.039955</td>\n",
       "      <td>-0.031602</td>\n",
       "      <td>-0.036336</td>\n",
       "      <td>-0.497915</td>\n",
       "      <td>0.091587</td>\n",
       "      <td>0.022149</td>\n",
       "      <td>-0.016990</td>\n",
       "      <td>-0.162820</td>\n",
       "      <td>...</td>\n",
       "      <td>-0.036527</td>\n",
       "      <td>-0.402785</td>\n",
       "      <td>-0.059179</td>\n",
       "      <td>-0.101544</td>\n",
       "      <td>0.237262</td>\n",
       "      <td>-0.013508</td>\n",
       "      <td>-0.043069</td>\n",
       "      <td>-0.009342</td>\n",
       "      <td>-0.034679</td>\n",
       "      <td>-0.057694</td>\n",
       "    </tr>\n",
       "  </tbody>\n",
       "</table>\n",
       "<p>7666 rows × 35 columns</p>\n",
       "</div>"
      ],
      "text/plain": [
       "           X39       X35       X46       X26       X27       X38       X42  \\\n",
       "0     0.043546  0.021055 -0.018635 -0.015527 -0.036193 -0.012538  0.025608   \n",
       "1     0.058895  0.020238 -0.025499 -0.026274 -0.035775 -0.032099  0.029769   \n",
       "2    -0.038655  0.000208 -0.031191 -0.026911 -0.036258 -0.029153  0.001836   \n",
       "3     0.079958  0.024087 -0.031586 -0.025168 -0.035801 -0.015046  0.036251   \n",
       "4     0.036838  0.027266 -0.006099  0.010089 -0.036199  0.046762  0.023668   \n",
       "...        ...       ...       ...       ...       ...       ...       ...   \n",
       "7661  0.611905  0.016735 -0.040636 -0.029522 -0.036189 -0.553370  0.189374   \n",
       "7662 -0.447364 -0.030746 -0.038439 -0.033557 -0.036527 -0.175798 -0.128357   \n",
       "7663 -0.114578 -0.026990 -0.038895 -0.038602 -0.036148 -0.024892 -0.020120   \n",
       "7664 -0.136450  0.009224  0.039953  0.015893 -0.029030  0.026923  0.251753   \n",
       "7665  0.272969 -0.008950 -0.039955 -0.031602 -0.036336 -0.497915  0.091587   \n",
       "\n",
       "           X19       X18        X6  ...       X47        X9       X64  \\\n",
       "0     0.023651  0.022002  0.053752  ... -0.041659 -0.394223 -0.049421   \n",
       "1     0.023007  0.017258  0.009006  ... -0.030852  0.088280  0.044364   \n",
       "2     0.015108  0.005785  0.030350  ... -0.021370 -0.475476 -0.043032   \n",
       "3     0.025332  0.020254  0.018143  ... -0.033722  0.059380 -0.058958   \n",
       "4     0.022858  0.028278  0.054482  ... -0.038059 -0.397649 -0.049605   \n",
       "...        ...       ...       ...  ...       ...       ...       ...   \n",
       "7661  0.050086  0.009933 -0.217806  ... -0.042221 -1.034323 -0.064681   \n",
       "7662 -0.054272 -0.032883 -0.057120  ... -0.024534 -0.708583 -0.063346   \n",
       "7663 -0.000187 -0.029266 -0.020373  ... -0.040346 -0.478887 -0.059474   \n",
       "7664  0.125686  0.074001 -0.008409  ... -0.024249 -0.623381 -0.032791   \n",
       "7665  0.022149 -0.016990 -0.162820  ... -0.036527 -0.402785 -0.059179   \n",
       "\n",
       "           X44       X56        X1       X59       X22       X40        X8  \n",
       "0    -0.017420 -0.011239  0.021780 -0.043069  0.020702 -0.023961 -0.037713  \n",
       "1     0.083663  0.010089  0.018424 -0.043069  0.019687 -0.033531 -0.044591  \n",
       "2     0.008021 -0.157422  0.009429 -0.043069 -0.000141 -0.033822 -0.044172  \n",
       "3    -0.026543  0.031193  0.020964  0.022637  0.023812 -0.033552 -0.046930  \n",
       "4    -0.084572 -0.016833  0.027319 -0.043069  0.026911 -0.015427 -0.004062  \n",
       "...        ...       ...       ...       ...       ...       ...       ...  \n",
       "7661 -0.127090  0.585746  0.013616 -0.043069  0.016331 -0.034687 -0.058061  \n",
       "7662 -0.048554 -0.490023 -0.028914  0.191936 -0.033614 -0.033911 -0.054301  \n",
       "7663 -0.119451 -0.164358 -0.025840 -0.014182 -0.027332 -0.034998 -0.045180  \n",
       "7664 -0.061333 -0.183895  0.060482 -0.043069  0.078170  0.031683 -0.022437  \n",
       "7665 -0.101544  0.237262 -0.013508 -0.043069 -0.009342 -0.034679 -0.057694  \n",
       "\n",
       "[7666 rows x 35 columns]"
      ]
     },
     "execution_count": 37,
     "metadata": {},
     "output_type": "execute_result"
    },
    {
     "data": {
      "text/html": [
       "<div>\n",
       "<style scoped>\n",
       "    .dataframe tbody tr th:only-of-type {\n",
       "        vertical-align: middle;\n",
       "    }\n",
       "\n",
       "    .dataframe tbody tr th {\n",
       "        vertical-align: top;\n",
       "    }\n",
       "\n",
       "    .dataframe thead th {\n",
       "        text-align: right;\n",
       "    }\n",
       "</style>\n",
       "<table border=\"1\" class=\"dataframe\">\n",
       "  <thead>\n",
       "    <tr style=\"text-align: right;\">\n",
       "      <th></th>\n",
       "      <th>X39</th>\n",
       "      <th>X35</th>\n",
       "      <th>X46</th>\n",
       "      <th>X26</th>\n",
       "      <th>X27</th>\n",
       "      <th>X38</th>\n",
       "      <th>X42</th>\n",
       "      <th>X19</th>\n",
       "      <th>X18</th>\n",
       "      <th>X6</th>\n",
       "      <th>...</th>\n",
       "      <th>X47</th>\n",
       "      <th>X9</th>\n",
       "      <th>X64</th>\n",
       "      <th>X44</th>\n",
       "      <th>X56</th>\n",
       "      <th>X1</th>\n",
       "      <th>X59</th>\n",
       "      <th>X22</th>\n",
       "      <th>X40</th>\n",
       "      <th>X8</th>\n",
       "    </tr>\n",
       "  </thead>\n",
       "  <tbody>\n",
       "    <tr>\n",
       "      <th>0</th>\n",
       "      <td>0.000163</td>\n",
       "      <td>0.005245</td>\n",
       "      <td>-0.019418</td>\n",
       "      <td>-0.019013</td>\n",
       "      <td>-0.034727</td>\n",
       "      <td>0.066068</td>\n",
       "      <td>0.036396</td>\n",
       "      <td>0.028000</td>\n",
       "      <td>0.013612</td>\n",
       "      <td>0.069593</td>\n",
       "      <td>...</td>\n",
       "      <td>-0.012503</td>\n",
       "      <td>-0.602917</td>\n",
       "      <td>-0.062985</td>\n",
       "      <td>-0.065145</td>\n",
       "      <td>-0.048754</td>\n",
       "      <td>0.008231</td>\n",
       "      <td>-0.042955</td>\n",
       "      <td>0.012443</td>\n",
       "      <td>-0.027507</td>\n",
       "      <td>0.001697</td>\n",
       "    </tr>\n",
       "    <tr>\n",
       "      <th>1</th>\n",
       "      <td>-0.041655</td>\n",
       "      <td>0.001553</td>\n",
       "      <td>-0.039634</td>\n",
       "      <td>-0.029879</td>\n",
       "      <td>-0.036261</td>\n",
       "      <td>-0.118213</td>\n",
       "      <td>0.000969</td>\n",
       "      <td>0.001189</td>\n",
       "      <td>-0.002738</td>\n",
       "      <td>-0.018082</td>\n",
       "      <td>...</td>\n",
       "      <td>-0.022822</td>\n",
       "      <td>-0.479931</td>\n",
       "      <td>-0.063562</td>\n",
       "      <td>-0.068294</td>\n",
       "      <td>-0.166412</td>\n",
       "      <td>-0.001200</td>\n",
       "      <td>-0.043069</td>\n",
       "      <td>0.001205</td>\n",
       "      <td>-0.034790</td>\n",
       "      <td>-0.051131</td>\n",
       "    </tr>\n",
       "    <tr>\n",
       "      <th>2</th>\n",
       "      <td>0.065214</td>\n",
       "      <td>0.019792</td>\n",
       "      <td>-0.034497</td>\n",
       "      <td>-0.021405</td>\n",
       "      <td>-0.036175</td>\n",
       "      <td>-0.013009</td>\n",
       "      <td>0.031874</td>\n",
       "      <td>0.024765</td>\n",
       "      <td>0.018377</td>\n",
       "      <td>0.049196</td>\n",
       "      <td>...</td>\n",
       "      <td>-0.029479</td>\n",
       "      <td>-0.382454</td>\n",
       "      <td>-0.060104</td>\n",
       "      <td>-0.060332</td>\n",
       "      <td>0.007420</td>\n",
       "      <td>0.022110</td>\n",
       "      <td>-0.039901</td>\n",
       "      <td>0.019439</td>\n",
       "      <td>-0.033246</td>\n",
       "      <td>-0.041731</td>\n",
       "    </tr>\n",
       "    <tr>\n",
       "      <th>3</th>\n",
       "      <td>0.025836</td>\n",
       "      <td>0.021134</td>\n",
       "      <td>-0.036616</td>\n",
       "      <td>-0.026466</td>\n",
       "      <td>-0.036051</td>\n",
       "      <td>-0.099004</td>\n",
       "      <td>0.026693</td>\n",
       "      <td>0.019390</td>\n",
       "      <td>0.017457</td>\n",
       "      <td>0.009006</td>\n",
       "      <td>...</td>\n",
       "      <td>-0.035642</td>\n",
       "      <td>1.012915</td>\n",
       "      <td>-0.054577</td>\n",
       "      <td>-0.080975</td>\n",
       "      <td>-0.023032</td>\n",
       "      <td>0.021183</td>\n",
       "      <td>-0.400531</td>\n",
       "      <td>0.028446</td>\n",
       "      <td>-0.034888</td>\n",
       "      <td>-0.053569</td>\n",
       "    </tr>\n",
       "    <tr>\n",
       "      <th>4</th>\n",
       "      <td>0.017209</td>\n",
       "      <td>0.011002</td>\n",
       "      <td>-0.024734</td>\n",
       "      <td>-0.026791</td>\n",
       "      <td>-0.036215</td>\n",
       "      <td>0.026227</td>\n",
       "      <td>0.017992</td>\n",
       "      <td>0.017083</td>\n",
       "      <td>0.008391</td>\n",
       "      <td>0.017629</td>\n",
       "      <td>...</td>\n",
       "      <td>-0.029624</td>\n",
       "      <td>-0.412471</td>\n",
       "      <td>-0.057448</td>\n",
       "      <td>-0.009422</td>\n",
       "      <td>-0.041396</td>\n",
       "      <td>0.011068</td>\n",
       "      <td>0.047772</td>\n",
       "      <td>0.010651</td>\n",
       "      <td>-0.031934</td>\n",
       "      <td>-0.044811</td>\n",
       "    </tr>\n",
       "    <tr>\n",
       "      <th>...</th>\n",
       "      <td>...</td>\n",
       "      <td>...</td>\n",
       "      <td>...</td>\n",
       "      <td>...</td>\n",
       "      <td>...</td>\n",
       "      <td>...</td>\n",
       "      <td>...</td>\n",
       "      <td>...</td>\n",
       "      <td>...</td>\n",
       "      <td>...</td>\n",
       "      <td>...</td>\n",
       "      <td>...</td>\n",
       "      <td>...</td>\n",
       "      <td>...</td>\n",
       "      <td>...</td>\n",
       "      <td>...</td>\n",
       "      <td>...</td>\n",
       "      <td>...</td>\n",
       "      <td>...</td>\n",
       "      <td>...</td>\n",
       "      <td>...</td>\n",
       "    </tr>\n",
       "    <tr>\n",
       "      <th>718</th>\n",
       "      <td>0.127102</td>\n",
       "      <td>0.036129</td>\n",
       "      <td>-0.014525</td>\n",
       "      <td>-0.016781</td>\n",
       "      <td>-0.031943</td>\n",
       "      <td>0.009664</td>\n",
       "      <td>0.048055</td>\n",
       "      <td>0.033403</td>\n",
       "      <td>0.033898</td>\n",
       "      <td>0.009006</td>\n",
       "      <td>...</td>\n",
       "      <td>-0.024355</td>\n",
       "      <td>0.161348</td>\n",
       "      <td>-0.022795</td>\n",
       "      <td>0.004864</td>\n",
       "      <td>0.078425</td>\n",
       "      <td>0.031818</td>\n",
       "      <td>-0.043069</td>\n",
       "      <td>0.034480</td>\n",
       "      <td>-0.025898</td>\n",
       "      <td>-0.036914</td>\n",
       "    </tr>\n",
       "    <tr>\n",
       "      <th>719</th>\n",
       "      <td>0.137091</td>\n",
       "      <td>0.031170</td>\n",
       "      <td>-0.029928</td>\n",
       "      <td>-0.019537</td>\n",
       "      <td>-0.033488</td>\n",
       "      <td>-0.047958</td>\n",
       "      <td>0.077684</td>\n",
       "      <td>0.045793</td>\n",
       "      <td>0.043137</td>\n",
       "      <td>0.009006</td>\n",
       "      <td>...</td>\n",
       "      <td>-0.042255</td>\n",
       "      <td>-0.108132</td>\n",
       "      <td>-0.057758</td>\n",
       "      <td>0.090610</td>\n",
       "      <td>0.088434</td>\n",
       "      <td>0.039669</td>\n",
       "      <td>-0.043069</td>\n",
       "      <td>0.045892</td>\n",
       "      <td>-0.034698</td>\n",
       "      <td>-0.046385</td>\n",
       "    </tr>\n",
       "    <tr>\n",
       "      <th>720</th>\n",
       "      <td>0.094872</td>\n",
       "      <td>0.030492</td>\n",
       "      <td>-0.033367</td>\n",
       "      <td>-0.023080</td>\n",
       "      <td>-0.036149</td>\n",
       "      <td>-0.027200</td>\n",
       "      <td>0.040450</td>\n",
       "      <td>0.027554</td>\n",
       "      <td>0.026031</td>\n",
       "      <td>0.044729</td>\n",
       "      <td>...</td>\n",
       "      <td>-0.029776</td>\n",
       "      <td>-0.368005</td>\n",
       "      <td>-0.056793</td>\n",
       "      <td>-0.034070</td>\n",
       "      <td>0.029658</td>\n",
       "      <td>0.025197</td>\n",
       "      <td>-0.027222</td>\n",
       "      <td>0.030136</td>\n",
       "      <td>-0.034878</td>\n",
       "      <td>-0.045278</td>\n",
       "    </tr>\n",
       "    <tr>\n",
       "      <th>721</th>\n",
       "      <td>0.038838</td>\n",
       "      <td>0.012357</td>\n",
       "      <td>-0.023640</td>\n",
       "      <td>-0.026605</td>\n",
       "      <td>-0.036076</td>\n",
       "      <td>0.019514</td>\n",
       "      <td>0.023981</td>\n",
       "      <td>0.020464</td>\n",
       "      <td>0.011038</td>\n",
       "      <td>0.009006</td>\n",
       "      <td>...</td>\n",
       "      <td>-0.013905</td>\n",
       "      <td>-0.269240</td>\n",
       "      <td>-0.044247</td>\n",
       "      <td>0.068019</td>\n",
       "      <td>-0.010005</td>\n",
       "      <td>0.013344</td>\n",
       "      <td>-0.035590</td>\n",
       "      <td>0.011870</td>\n",
       "      <td>-0.031314</td>\n",
       "      <td>-0.036267</td>\n",
       "    </tr>\n",
       "    <tr>\n",
       "      <th>722</th>\n",
       "      <td>-0.079187</td>\n",
       "      <td>-0.013297</td>\n",
       "      <td>-0.037939</td>\n",
       "      <td>-0.031427</td>\n",
       "      <td>-0.037699</td>\n",
       "      <td>-0.061758</td>\n",
       "      <td>-0.007090</td>\n",
       "      <td>0.008050</td>\n",
       "      <td>-0.008454</td>\n",
       "      <td>0.009006</td>\n",
       "      <td>...</td>\n",
       "      <td>-0.017194</td>\n",
       "      <td>0.661875</td>\n",
       "      <td>-0.040045</td>\n",
       "      <td>-0.103003</td>\n",
       "      <td>-0.128254</td>\n",
       "      <td>-0.004911</td>\n",
       "      <td>0.422825</td>\n",
       "      <td>-0.010744</td>\n",
       "      <td>-0.034381</td>\n",
       "      <td>-0.051515</td>\n",
       "    </tr>\n",
       "  </tbody>\n",
       "</table>\n",
       "<p>723 rows × 35 columns</p>\n",
       "</div>"
      ],
      "text/plain": [
       "          X39       X35       X46       X26       X27       X38       X42  \\\n",
       "0    0.000163  0.005245 -0.019418 -0.019013 -0.034727  0.066068  0.036396   \n",
       "1   -0.041655  0.001553 -0.039634 -0.029879 -0.036261 -0.118213  0.000969   \n",
       "2    0.065214  0.019792 -0.034497 -0.021405 -0.036175 -0.013009  0.031874   \n",
       "3    0.025836  0.021134 -0.036616 -0.026466 -0.036051 -0.099004  0.026693   \n",
       "4    0.017209  0.011002 -0.024734 -0.026791 -0.036215  0.026227  0.017992   \n",
       "..        ...       ...       ...       ...       ...       ...       ...   \n",
       "718  0.127102  0.036129 -0.014525 -0.016781 -0.031943  0.009664  0.048055   \n",
       "719  0.137091  0.031170 -0.029928 -0.019537 -0.033488 -0.047958  0.077684   \n",
       "720  0.094872  0.030492 -0.033367 -0.023080 -0.036149 -0.027200  0.040450   \n",
       "721  0.038838  0.012357 -0.023640 -0.026605 -0.036076  0.019514  0.023981   \n",
       "722 -0.079187 -0.013297 -0.037939 -0.031427 -0.037699 -0.061758 -0.007090   \n",
       "\n",
       "          X19       X18        X6  ...       X47        X9       X64  \\\n",
       "0    0.028000  0.013612  0.069593  ... -0.012503 -0.602917 -0.062985   \n",
       "1    0.001189 -0.002738 -0.018082  ... -0.022822 -0.479931 -0.063562   \n",
       "2    0.024765  0.018377  0.049196  ... -0.029479 -0.382454 -0.060104   \n",
       "3    0.019390  0.017457  0.009006  ... -0.035642  1.012915 -0.054577   \n",
       "4    0.017083  0.008391  0.017629  ... -0.029624 -0.412471 -0.057448   \n",
       "..        ...       ...       ...  ...       ...       ...       ...   \n",
       "718  0.033403  0.033898  0.009006  ... -0.024355  0.161348 -0.022795   \n",
       "719  0.045793  0.043137  0.009006  ... -0.042255 -0.108132 -0.057758   \n",
       "720  0.027554  0.026031  0.044729  ... -0.029776 -0.368005 -0.056793   \n",
       "721  0.020464  0.011038  0.009006  ... -0.013905 -0.269240 -0.044247   \n",
       "722  0.008050 -0.008454  0.009006  ... -0.017194  0.661875 -0.040045   \n",
       "\n",
       "          X44       X56        X1       X59       X22       X40        X8  \n",
       "0   -0.065145 -0.048754  0.008231 -0.042955  0.012443 -0.027507  0.001697  \n",
       "1   -0.068294 -0.166412 -0.001200 -0.043069  0.001205 -0.034790 -0.051131  \n",
       "2   -0.060332  0.007420  0.022110 -0.039901  0.019439 -0.033246 -0.041731  \n",
       "3   -0.080975 -0.023032  0.021183 -0.400531  0.028446 -0.034888 -0.053569  \n",
       "4   -0.009422 -0.041396  0.011068  0.047772  0.010651 -0.031934 -0.044811  \n",
       "..        ...       ...       ...       ...       ...       ...       ...  \n",
       "718  0.004864  0.078425  0.031818 -0.043069  0.034480 -0.025898 -0.036914  \n",
       "719  0.090610  0.088434  0.039669 -0.043069  0.045892 -0.034698 -0.046385  \n",
       "720 -0.034070  0.029658  0.025197 -0.027222  0.030136 -0.034878 -0.045278  \n",
       "721  0.068019 -0.010005  0.013344 -0.035590  0.011870 -0.031314 -0.036267  \n",
       "722 -0.103003 -0.128254 -0.004911  0.422825 -0.010744 -0.034381 -0.051515  \n",
       "\n",
       "[723 rows x 35 columns]"
      ]
     },
     "execution_count": 37,
     "metadata": {},
     "output_type": "execute_result"
    }
   ],
   "source": [
    "my_list = feature_name['feature'][0:35]\n",
    "X_train_df = pd.DataFrame(data = X_train, columns = df.columns[0:-1])\n",
    "X_train_new = X_train_df.loc[:,my_list]\n",
    "X_train_new\n",
    "\n",
    "X_test_df = pd.DataFrame(data = X_test, columns = df.columns[0:-1])\n",
    "X_test_new = X_test_df.loc[:,my_list]\n",
    "X_test_new"
   ]
  },
  {
   "cell_type": "markdown",
   "metadata": {},
   "source": [
    "## Compare models"
   ]
  },
  {
   "cell_type": "code",
   "execution_count": 38,
   "metadata": {},
   "outputs": [
    {
     "name": "stdout",
     "output_type": "stream",
     "text": [
      "Model: random forest in sample score=1.00\n",
      "\n",
      "Model: random forest out-of-sample score=0.93\n",
      "\n",
      "Model: random forest recall score=0.52\n",
      "\n",
      "Model: random forest precision score=0.46\n",
      "\n"
     ]
    },
    {
     "data": {
      "image/png": "[encoded data removed]",
      "text/plain": [
       "<Figure size 432x288 with 1 Axes>"
      ]
     },
     "metadata": {
      "needs_background": "light"
     },
     "output_type": "display_data"
    }
   ],
   "source": [
    "find_score(rf,'random forest',X_train_new,X_test_new)"
   ]
  },
  {
   "cell_type": "code",
   "execution_count": 39,
   "metadata": {},
   "outputs": [
    {
     "name": "stdout",
     "output_type": "stream",
     "text": [
      "Model: logistic regression in sample score=0.70\n",
      "\n",
      "Model: logistic regression out-of-sample score=0.69\n",
      "\n",
      "Model: logistic regression recall score=0.74\n",
      "\n",
      "Model: logistic regression precision score=0.14\n",
      "\n"
     ]
    },
    {
     "data": {
      "image/png": "[encoded data removed]",
      "text/plain": [
       "<Figure size 432x288 with 1 Axes>"
      ]
     },
     "metadata": {
      "needs_background": "light"
     },
     "output_type": "display_data"
    }
   ],
   "source": [
    "find_score(model_pipeline,'logistic regression',X_train_new,X_test_new)"
   ]
  },
  {
   "cell_type": "code",
   "execution_count": 40,
   "metadata": {
    "scrolled": true
   },
   "outputs": [],
   "source": [
    "# SVM model\n",
    "clf = make_pipeline(StandardScaler(),SVC(kernel='linear',C=0.1))"
   ]
  },
  {
   "cell_type": "code",
   "execution_count": 41,
   "metadata": {
    "scrolled": true
   },
   "outputs": [
    {
     "name": "stdout",
     "output_type": "stream",
     "text": [
      "Model: svm in sample score=0.78\n",
      "\n",
      "Model: svm out-of-sample score=0.75\n",
      "\n",
      "Model: svm recall score=0.83\n",
      "\n",
      "Model: svm precision score=0.18\n",
      "\n"
     ]
    },
    {
     "data": {
      "image/png": "[encoded data removed]",
      "text/plain": [
       "<Figure size 432x288 with 1 Axes>"
      ]
     },
     "metadata": {
      "needs_background": "light"
     },
     "output_type": "display_data"
    }
   ],
   "source": [
    "find_score(clf,'svm',X_train_new,X_test_new)"
   ]
  },
  {
   "cell_type": "code",
   "execution_count": 42,
   "metadata": {},
   "outputs": [],
   "source": [
    "# Gradient Boosting model\n",
    "gbm = GradientBoostingClassifier(random_state=42)"
   ]
  },
  {
   "cell_type": "code",
   "execution_count": 43,
   "metadata": {
    "scrolled": false
   },
   "outputs": [
    {
     "name": "stdout",
     "output_type": "stream",
     "text": [
      "Model: gbm in sample score=0.95\n",
      "\n",
      "Model: gbm out-of-sample score=0.90\n",
      "\n",
      "Model: gbm recall score=0.72\n",
      "\n",
      "Model: gbm precision score=0.36\n",
      "\n"
     ]
    },
    {
     "data": {
      "image/png": "[encoded data removed]",
      "text/plain": [
       "<Figure size 432x288 with 1 Axes>"
      ]
     },
     "metadata": {
      "needs_background": "light"
     },
     "output_type": "display_data"
    }
   ],
   "source": [
    "find_score(gbm,'gbm',X_train_new,X_test_new)"
   ]
  },
  {
   "cell_type": "code",
   "execution_count": null,
   "metadata": {},
   "outputs": [],
   "source": []
  },
  {
   "cell_type": "markdown",
   "metadata": {},
   "source": [
    "# Choose Model ---> Gradient Boosting Model is the best\n",
    "### Since it is much more important to detect bankruptcy, we want a higher recall, but we also want good accuracy and precision. \n",
    "### According to the scores we calculated for each of the four models, we found that SVM,Gradient Boosting,and logistic regression model have high recall score; meanwhile random forest and gradient boosting have high accuracy and precision.\n",
    "### Therefore, we choose Gradient Boosting Model as final model for it is in the intersection of models with great recall, accuracy and precision."
   ]
  },
  {
   "cell_type": "code",
   "execution_count": null,
   "metadata": {},
   "outputs": [],
   "source": []
  },
  {
   "cell_type": "markdown",
   "metadata": {},
   "source": [
    "# Evaluating your project"
   ]
  },
  {
   "cell_type": "markdown",
   "metadata": {},
   "source": [
    "We will evaluate your submission on a test dataset that we provide\n",
    "- It has no labels, so **you** can't use it to evaluate your model, but **we** have the labels\n",
    "- We will call this evaluation dataset the \"holdout\" data\n",
    "\n",
    "Let's get it"
   ]
  },
  {
   "cell_type": "code",
   "execution_count": 44,
   "metadata": {
    "scrolled": true
   },
   "outputs": [
    {
     "name": "stdout",
     "output_type": "stream",
     "text": [
      "Data shape:  (1092, 65)\n"
     ]
    }
   ],
   "source": [
    "holdout_data = pd.read_csv( os.path.join(DATA_DIR, \"holdout\", '5th_yr.csv') )\n",
    "\n",
    "print(\"Data shape: \", holdout_data.shape)\n"
   ]
  },
  {
   "cell_type": "markdown",
   "metadata": {},
   "source": [
    "We will evaluate your model on the holdout examples using metrics\n",
    "- Accuracy\n",
    "- Recall\n",
    "- Precision\n",
    "\n",
    "From our lecture: we may have to make a trade-off between Recall and Precision.\n",
    "\n",
    "Our evaluation of your submission will be partially based on how you made (and described) the trade-off.\n",
    "\n",
    "You may assume that it is 5 times worse to *fail to identify a company that will go bankrupt*\n",
    "than it is to fail to identify a company that won't go bankrupt."
   ]
  },
  {
   "cell_type": "markdown",
   "metadata": {},
   "source": [
    "# Your model\n",
    "\n",
    "Time for you to continue the Recipe for Machine Learning on your own.\n",
    "\n"
   ]
  },
  {
   "cell_type": "markdown",
   "metadata": {},
   "source": [
    "## Submission guidelines\n",
    "\n",
    "Although your notebook may contain many models (e.g., due to your iterative development)\n",
    "we will only evaluate a single model.\n",
    "So choose one (explain why !) and do the following.\n",
    "\n",
    "- You will implement the body of a subroutine `MyModel`\n",
    "    - That takes as argument a Pandas DataFrame \n",
    "        - Each row is an example on which to predict\n",
    "        - The features of the example are elements of the row\n",
    "    - Performs predictions on each example\n",
    "    - Returns an array or predictions with a one-to-one correspondence with the examples in the test set\n",
    "    "
   ]
  },
  {
   "cell_type": "raw",
   "metadata": {},
   "source": [
    "We will evaluate your model against the holdout data\n",
    "- By reading the holdout examples `X_hold` (as above)\n",
    "- Calling `y_hold_pred = MyModel(X_hold)` to get the predictions\n",
    "- Comparing the predicted values `y_hold_pred` against the true labels `y_hold` which are known only to the instructors\n",
    "\n",
    "See the following cell as an illustration"
   ]
  },
  {
   "cell_type": "raw",
   "metadata": {},
   "source": [
    "X_hold = pd.read_csv( os.path.join(DATA_DIR, \"holdout\", '5th_yr.csv') )\n",
    "\n",
    "# Predict using MyModel\n",
    "y_hold_pred = MyModel(X_hold)\n",
    "\n",
    "# Compute metrics\n",
    "# accuracy\n",
    "accuracy_hold = accuracy_score(y_hold, y_hold_pred)\n",
    "\n",
    "# recall_\n",
    "recall_hold = recall_score(y_hold, y_hold_pred, pos_label=1, average=\"binary\")\n",
    "\n",
    "# precision\n",
    "precision_hold = precision_score(y_hold,   y_hold_pred, pos_label=1, average=\"binary\")\n",
    "\n",
    "\n",
    "print(\"\\t{m:s} Accuracy: {a:3.1%}, Recall {r:3.1%}, Precision {p:3.1%}\".format(m=name,\n",
    "                                                                            a=accuracy_hold,\n",
    "                                                                            r=recall_hold,\n",
    "                                                                            p=precision_hold\n",
    "                                                                            )\n",
    "         )"
   ]
  },
  {
   "cell_type": "markdown",
   "metadata": {},
   "source": [
    "**Remember**\n",
    "\n",
    "The holdout data is in the same format as the one we used for training\n",
    "- Except that it has no attribute for the target\n",
    "- So you will need to perform all the transformations on the holdout data\n",
    "    - As you did on the training data\n",
    "    - Including turning the string representation of numbers into actual numeric data types\n",
    "\n",
    "All of this work *must* be performed within the body of the `MyModel` routine you will write\n",
    "\n",
    "We will grade you by comparing the predictions array you create to the answers known to us."
   ]
  },
  {
   "cell_type": "markdown",
   "metadata": {},
   "source": [
    "# My Model"
   ]
  },
  {
   "cell_type": "code",
   "execution_count": 45,
   "metadata": {},
   "outputs": [
    {
     "name": "stdout",
     "output_type": "stream",
     "text": [
      "(1092,)\n"
     ]
    }
   ],
   "source": [
    "\n",
    "import pandas as pd\n",
    "import os\n",
    "\n",
    "# Input X is a dataframe and output prediction is an array(0 or 1)\n",
    "def MyModel(X):\n",
    "    # It should create an array of predictions; we initialize it to the empty array for convenience\n",
    "    X.drop(['Id','X37'], axis = 1, inplace = True) #drop feature \"Id\" and \"X37\" which has most missing values\n",
    "    df_test = X.apply(pd.to_numeric, errors='coerce') # Transform all features to be numeric\n",
    "    \n",
    "    # Dimension Reduction by feature importance, my list is \n",
    "    X_test_try = pipe.fit_transform(df_test)\n",
    "    X_test = pd.DataFrame(data = X_test_try, columns = df.columns[0:-1])\n",
    "    X_test_holdout = X_test.loc[:,my_list]\n",
    "    \n",
    "    gbm = GradientBoostingClassifier(random_state=42)\n",
    "    _=gbm.fit(X_train_new, y_train)\n",
    "\n",
    "    predictions=[]\n",
    "    predictions = gbm.predict(X_test_holdout)\n",
    "    \n",
    "    return predictions\n",
    "\n",
    "result = MyModel(holdout_data)\n",
    "print(result.shape)"
   ]
  },
  {
   "cell_type": "code",
   "execution_count": 46,
   "metadata": {},
   "outputs": [
    {
     "data": {
      "text/plain": [
       "Counter({0: 696, 1: 396})"
      ]
     },
     "execution_count": 46,
     "metadata": {},
     "output_type": "execute_result"
    }
   ],
   "source": [
    "from collections import Counter\n",
    "Counter(result)"
   ]
  },
  {
   "cell_type": "markdown",
   "metadata": {},
   "source": [
    "# Check my work"
   ]
  },
  {
   "cell_type": "raw",
   "metadata": {},
   "source": [
    "# Check your work: predict and evaluate metrics on *your* test examples\n",
    "\n",
    "Although only the instructors have the correct labels for the holdout dataset, you may want\n",
    "to create your own test dataset on which to evaluate your out of sample metrics.\n",
    "\n",
    "If you choose to do so, you can evaluate your models using the same metrics that the instructors will use.\n",
    "\n",
    "- Test whether your implementation of `MyModel` works\n",
    "- See the metrics  your model produces"
   ]
  },
  {
   "cell_type": "code",
   "execution_count": 47,
   "metadata": {},
   "outputs": [],
   "source": [
    "data = pd.read_csv( os.path.join(DATA_DIR, \"train\", data_file) )"
   ]
  },
  {
   "cell_type": "code",
   "execution_count": 48,
   "metadata": {
    "scrolled": false
   },
   "outputs": [
    {
     "name": "stdout",
     "output_type": "stream",
     "text": [
      "(4818,)\n"
     ]
    }
   ],
   "source": [
    "print(data['Bankrupt'].shape)"
   ]
  },
  {
   "cell_type": "code",
   "execution_count": 49,
   "metadata": {},
   "outputs": [
    {
     "data": {
      "text/plain": [
       "0       0\n",
       "1       0\n",
       "2       0\n",
       "3       0\n",
       "4       0\n",
       "       ..\n",
       "4813    0\n",
       "4814    0\n",
       "4815    0\n",
       "4816    0\n",
       "4817    0\n",
       "Name: Bankrupt, Length: 4818, dtype: int64"
      ]
     },
     "execution_count": 49,
     "metadata": {},
     "output_type": "execute_result"
    }
   ],
   "source": [
    "test = data['Bankrupt']\n",
    "test"
   ]
  },
  {
   "cell_type": "code",
   "execution_count": 50,
   "metadata": {},
   "outputs": [
    {
     "name": "stdout",
     "output_type": "stream",
     "text": [
      "\tGradient Boosting model Accuracy: 93.5%, Recall 86.0%, Precision 49.4%\n"
     ]
    }
   ],
   "source": [
    "name = \"Gradient Boosting model\"\n",
    "data = pd.read_csv( os.path.join(DATA_DIR, \"train\", data_file) )\n",
    "data.drop('Bankrupt', axis = 1, inplace = True)\n",
    "y_test_pred = MyModel(data)\n",
    "accuracy_test = accuracy_score(test, y_test_pred)\n",
    "recall_test = recall_score(test, y_test_pred, pos_label=1, average=\"binary\")\n",
    "precision_test = precision_score(test, y_test_pred, pos_label=1, average=\"binary\")\n",
    "print(\"\\t{m:s} Accuracy: {a:3.1%}, Recall {r:3.1%}, Precision {p:3.1%}\".format(m=name,\n",
    "                                                                            a=accuracy_test,\n",
    "                                                                            r=recall_test,\n",
    "                                                                            p=precision_test\n",
    "                                                                            )\n",
    "         )\n"
   ]
  },
  {
   "cell_type": "code",
   "execution_count": null,
   "metadata": {},
   "outputs": [],
   "source": []
  },
  {
   "cell_type": "code",
   "execution_count": null,
   "metadata": {},
   "outputs": [],
   "source": []
  }
 ],
 "metadata": {
  "kernelspec": {
   "display_name": "Python 3",
   "language": "python",
   "name": "python3"
  },
  "language_info": {
   "codemirror_mode": {
    "name": "ipython",
    "version": 3
   },
   "file_extension": ".py",
   "mimetype": "text/x-python",
   "name": "python",
   "nbconvert_exporter": "python",
   "pygments_lexer": "ipython3",
   "version": "3.8.3"
  },
  "toc": {
   "base_numbering": 1,
   "nav_menu": {},
   "number_sections": true,
   "sideBar": true,
   "skip_h1_title": false,
   "title_cell": "Table of Contents",
   "title_sidebar": "Contents",
   "toc_cell": false,
   "toc_position": {
    "height": "calc(100% - 180px)",
    "left": "10px",
    "top": "150px",
    "width": "370.594px"
   },
   "toc_section_display": true,
   "toc_window_display": true
  }
 },
 "nbformat": 4,
 "nbformat_minor": 2
}
